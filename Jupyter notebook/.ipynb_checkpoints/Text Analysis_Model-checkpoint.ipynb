{
 "cells": [
  {
   "cell_type": "code",
   "execution_count": 1,
   "metadata": {},
   "outputs": [
    {
     "name": "stderr",
     "output_type": "stream",
     "text": [
      "[nltk_data] Downloading package stopwords to\n",
      "[nltk_data]     /home/alphaq2/nltk_data...\n",
      "[nltk_data]   Package stopwords is already up-to-date!\n",
      "[nltk_data] Downloading package wordnet to /home/alphaq2/nltk_data...\n",
      "[nltk_data]   Package wordnet is already up-to-date!\n",
      "[nltk_data] Downloading package vader_lexicon to\n",
      "[nltk_data]     /home/alphaq2/nltk_data...\n",
      "[nltk_data]   Package vader_lexicon is already up-to-date!\n"
     ]
    }
   ],
   "source": [
    "#modules\n",
    "from sklearn.feature_extraction.text import TfidfVectorizer \n",
    "import pandas as pd \n",
    "from tqdm import tqdm\n",
    "import os\n",
    "import json\n",
    "import numpy as np\n",
    "from sklearn.model_selection import StratifiedShuffleSplit\n",
    "from sklearn.model_selection import train_test_split\n",
    "from sklearn.metrics import confusion_matrix\n",
    "from sklearn.metrics import classification_report\n",
    "from sklearn.metrics import accuracy_score\n",
    "from sklearn.feature_extraction.text import TfidfVectorizer\n",
    "from sklearn.ensemble import RandomForestClassifier\n",
    "from sklearn.neighbors import KNeighborsClassifier\n",
    "from sklearn.cluster import KMeans\n",
    "from sklearn.ensemble import GradientBoostingClassifier\n",
    "from sklearn.ensemble import AdaBoostClassifier\n",
    "from sklearn.svm import LinearSVC\n",
    "from sklearn.pipeline import make_pipeline\n",
    "from sklearn.preprocessing import StandardScaler\n",
    "import math\n",
    "# import matplotlib.pl\n",
    "# import tenserflow\n",
    "\n",
    "from nltk.stem import PorterStemmer \n",
    "from nltk.corpus import stopwords\n",
    "from wordcloud import WordCloud\n",
    "import matplotlib.pyplot as plt\n",
    "import matplotlib.image as mpimg\n",
    "from nltk.tokenize import word_tokenize \n",
    "import re\n",
    "from nltk.stem import WordNetLemmatizer \n",
    "import nltk\n",
    "nltk.download('stopwords')\n",
    "import seaborn as sns\n",
    "nltk.download('wordnet')\n",
    "# from preprocess import *\n",
    "\n",
    "#Modules\n",
    "from string import punctuation\n",
    "import numpy as np\n",
    "from tqdm import tqdm\n",
    "from afinn import Afinn\n",
    "import os.path\n",
    "import re\n",
    "import time\n",
    "\n",
    "#sklearn\n",
    "from sklearn.preprocessing import MinMaxScaler\n",
    "from sklearn.preprocessing import Normalizer\n",
    "from sklearn.feature_extraction.text import TfidfVectorizer\n",
    "from sklearn import svm\n",
    "from sklearn.tree import DecisionTreeClassifier\n",
    "from sklearn.neural_network import MLPClassifier\n",
    "from sklearn.decomposition import PCA\n",
    "from sklearn import metrics\n",
    "from sklearn.feature_extraction.text import CountVectorizer\n",
    "\n",
    "\n",
    "import numpy\n",
    "import sys\n",
    "import scipy.stats\n",
    "import numpy as np\n",
    "import pandas as pd\n",
    "import pickle\n",
    "\n",
    "#nltk\n",
    "import nltk\n",
    "from nltk.corpus import stopwords\n",
    "from nltk.tokenize import word_tokenize\n",
    "from nltk.sentiment.util import *\n",
    "from nltk.util import ngrams\n",
    "from nltk.tokenize import sent_tokenize \n",
    "from nltk.sentiment.util import mark_negation\n",
    "from nltk.tokenize import TweetTokenizer\n",
    "from nltk.sentiment.vader import SentimentIntensityAnalyzer\n",
    "from gensim.test.utils import common_texts\n",
    "from gensim.models.doc2vec import Doc2Vec, TaggedDocument\n",
    "nltk.download('vader_lexicon')\n",
    "\n",
    "# from numba import jit, cuda\n",
    "from gensim.models.word2vec import Word2Vec\n",
    "\n",
    "cachedStopWords = set(stopwords.words(\"english\"))\n",
    "afinn = Afinn()\n"
   ]
  },
  {
   "cell_type": "code",
   "execution_count": 2,
   "metadata": {},
   "outputs": [],
   "source": [
    "\"\"\" text feature extraction using VADER, lexicon, mpqa data\"\"\"\n",
    "def feature_VADER(Xtext):\n",
    "    # VADER\n",
    "    feat_ = []\n",
    "    sid = SentimentIntensityAnalyzer()\n",
    "    for tweet in Xtext:\n",
    "        temp = []\n",
    "        flag = -1\n",
    "        for sent in tweet:\n",
    "            ss = sid.polarity_scores(sent)\n",
    "            f = []\n",
    "            for i in ss:\n",
    "                f.append(ss[i])\n",
    "            if(flag == -1):\n",
    "                temp = f\n",
    "                flag = 1\n",
    "            else:\n",
    "                for i in range(len(temp)):\n",
    "                    temp[i] += f[i]\n",
    "        feat_.append(temp)\n",
    "    return np.array(feat_)\n",
    "\n",
    "def polar_wordMPQA(X):\n",
    "    #mpqa data processing\n",
    "    dict1_mpqa = {}\n",
    "    with open(\"lexicons/2. mpqa.txt\", 'r') as fd:\n",
    "        for line in fd:\n",
    "            x = line.split(\"\t\")\n",
    "            dict1_mpqa[x[0] + \"_\" + x[1][:-1]] = 1\n",
    "    \n",
    "    #bingluie processing\n",
    "    dict1_bing = {}\n",
    "    with open(\"lexicons/1. BingLiu.csv\", 'r') as fd:\n",
    "        for line in fd:\n",
    "            x = line.split(\"\t\")\n",
    "            dict1_bing[x[0] + \"_\" + x[1][:-1]] = 1\n",
    "    \n",
    "    #feature extraction\n",
    "    feat_ = []\n",
    "    for tokens in X:\n",
    "        #mpqa\n",
    "        MPQA = [0,0,0]\n",
    "        for token in tokens:\n",
    "            if((token + \"_positive\") in dict1_mpqa):\n",
    "                MPQA[0] += 1\n",
    "            if((token + \"_negative\") in dict1_mpqa):\n",
    "                MPQA[1] += 1\n",
    "            if((token + \"_neutral\") in dict1_mpqa):\n",
    "                MPQA[2] += 1\n",
    "        #bingliu\n",
    "        BING = [0,0]\n",
    "        for token in tokens:\n",
    "            if((token + \"_positive\") in dict1_bing):\n",
    "                BING[0] += 1\n",
    "            if((token + \"_negative\") in dict1_bing):\n",
    "                BING[1] += 1\n",
    "            if((token + \"_neutral\") in dict1_bing):\n",
    "                BING[2] += 1\n",
    "        feat_.append(MPQA + BING)\n",
    "    return np.array(feat_)\n",
    "\n",
    "def get_word(word):\n",
    "    #function to remove all numbers or # in the end\n",
    "    e = len(word) - 1\n",
    "    while(e != -1 and (word[e] in \"0123456789\" or word[e] in \"#\")):\n",
    "        e-= 1\n",
    "    return word[:e + 1]\n",
    "\n",
    "def aggregate_score_word(X):\n",
    "    #sentiment140 processing\n",
    "    dict1_S140 = {}\n",
    "    with open(\"lexicons/3. Sentiment140-Lexicon-v0.1/unigrams-pmilexicon.txt\", 'r') as fd:\n",
    "        for line in fd:\n",
    "            x = line.split(\"\t\")\n",
    "            dict1_S140[x[0] + \"_positive\"] = float(x[2])\n",
    "            dict1_S140[x[0] + \"_negative\"] = float(x[3])\n",
    "            \n",
    "    #SENTIWORDNET processing\n",
    "    dict1_WORDNET= {}\n",
    "    with open(\"lexicons/4. SentiWordNet_3.0.0_20130122.txt\", 'r') as fd:\n",
    "        for line in fd:\n",
    "            x = line.split(\"\t\")\n",
    "            word = x[4].split(\" \")\n",
    "            word = list(map(get_word,word))\n",
    "            words = \"\"\n",
    "            for i,e in enumerate(word):\n",
    "                if(i == 0):\n",
    "                    words += e\n",
    "                else:\n",
    "                    words += \" \" + e\n",
    "            dict1_WORDNET[words + \"_positive\"] = float(x[2])\n",
    "            dict1_WORDNET[words + \"_negative\"] = float(x[3])\n",
    "    \n",
    "    #feature extraction        \n",
    "    feat_ = []\n",
    "    for tokens in X:\n",
    "        sent140 = [0,0]\n",
    "        wordnet = [0,0]\n",
    "        afin = [0,0]\n",
    "        cnt = 0\n",
    "        for token in tokens:\n",
    "            if(\"#\" not in token):\n",
    "                cnt += 1\n",
    "                #sent140\n",
    "                if((token + \"_positive\") in dict1_S140):\n",
    "                    sent140[0] += dict1_S140[token + \"_positive\"]\n",
    "                if((token + \"_negative\") in dict1_S140):\n",
    "                    sent140[1] += dict1_S140[token + \"_negative\"]\n",
    "                #wordnet\n",
    "                if((token + \"_positive\") in dict1_WORDNET):\n",
    "                    wordnet[0] += dict1_WORDNET[token + \"_positive\"]\n",
    "                if((token + \"_negative\") in dict1_WORDNET):\n",
    "                    wordnet[1] += dict1_WORDNET[token + \"_negative\"]\n",
    "                #afinn\n",
    "                e = afinn.score(token)\n",
    "                if(e > 0):\n",
    "                    afin[0] += e\n",
    "                else:\n",
    "                    afin[1] += abs(e)\n",
    "        res = sent140 + wordnet + afin\n",
    "        feat_.append([i/(cnt + (cnt == 0)) for i in res])\n",
    "    return np.array(feat_)\n",
    "                    \n",
    "emotions = set([])\n",
    "def aggregate_hashtag_scores(X):\n",
    "    #NRC hashtag processing\n",
    "    dict1_NRC = {}\n",
    "    with open(\"lexicons/7. NRC-Hashtag-Sentiment-Lexicon-v0.1/unigrams-pmilexicon.txt\", 'r') as fd:\n",
    "        for line in fd:\n",
    "            x = line.split(\"\t\")\n",
    "            dict1_NRC[x[0] + \"_positive\"] = float(x[2])\n",
    "            dict1_NRC[x[0] + \"_negative\"] = float(x[3])\n",
    "    \n",
    "    #feature extraction\n",
    "    feat_ = []\n",
    "    for tokens in X:\n",
    "        cnt = 0\n",
    "        f = [0,0]\n",
    "        for token in tokens:\n",
    "            if(\"#\" not in token):\n",
    "                continue\n",
    "            cnt += 1\n",
    "            if((token + \"_positive\") in dict1_NRC):\n",
    "                f[0] += dict1_NRC[token + \"_positive\"]\n",
    "            if((token + \"_negative\") in dict1_NRC):\n",
    "                f[1] += dict1_NRC[token + \"_negative\"]\n",
    "        feat_.append([i/(cnt + (i == 0)) for i in f])\n",
    "    return np.array(feat_)\n",
    "def emotion_word_count(X):\n",
    "    #NRC emotion preprocessing\n",
    "    dict1_NRC = {}\n",
    "    with open(\"lexicons/8. NRC-word-emotion-lexicon.txt\", 'r') as fd:\n",
    "        for line in fd:\n",
    "            x = line.split(\"\t\")\n",
    "            dict1_NRC[x[0] + \"_\" + x[1]] = int(x[2])\n",
    "            emotions.add(x[1])\n",
    "    #feature extraction\n",
    "    feat_ = []\n",
    "    for e,tokens in tqdm(enumerate(X)):\n",
    "        emo_count = [0 for i in range(len(emotions))]\n",
    "        for token in tokens:\n",
    "            cnt = 0\n",
    "            for i in emotions:\n",
    "                if((token + \"_\" + i) in dict1_NRC):\n",
    "                    emo_count[cnt] += dict1_NRC[token + \"_\" + i]\n",
    "                cnt += 1\n",
    "        feat_.append(emo_count)\n",
    "    return np.array(feat_)\n",
    "\n",
    "def emotion_word_score(X):\n",
    "    #NRC emotion preprocessing\n",
    "    dict1_NRC = {}\n",
    "    cnt_r = 0\n",
    "    len1 = 0;\n",
    "    with open(\"lexicons/6. NRC-10-expanded.csv\", 'r') as fd:\n",
    "        for line in fd:\n",
    "            if(cnt_r == 0):\n",
    "                cnt_r += 1\n",
    "                continue;\n",
    "            x = line.split(\"\t\")\n",
    "            dict1_NRC[x[0]] = [float(i) for i in x[1:]]\n",
    "            len1 = len(x[1:])\n",
    "    \n",
    "    #feature extraction\n",
    "    feat_ = []\n",
    "    for e,tokens in tqdm(enumerate(X)):\n",
    "        emo_score = [0 for i in range(len1)]\n",
    "        cnt = 0\n",
    "        for token in tokens:\n",
    "            if(\"#\" in token):\n",
    "                continue\n",
    "            cnt += 1\n",
    "            if(token in dict1_NRC):\n",
    "                for i,val in enumerate(dict1_NRC[token]):\n",
    "                    emo_score[i] += val\n",
    "        feat_.append([i/(cnt + (cnt == 0)) for i in emo_score])\n",
    "    return np.array(feat_)\n",
    "\n",
    "def emotion_hashtag_score(X):\n",
    "    #NRC emotion processing\n",
    "    dict1_NRC = {}\n",
    "    with open(\"lexicons/5. NRC-Hashtag-Emotion-Lexicon-v0.2.txt\", 'r') as fd:\n",
    "        for line in fd:\n",
    "            x = line.split(\"\t\")\n",
    "            dict1_NRC[x[1] + \"_\" + x[0]] = float(x[2])\n",
    "\n",
    "    #feature extraction\n",
    "    feat_ = []\n",
    "    for e,tokens in tqdm(enumerate(X)):\n",
    "        p = 0\n",
    "        emo_score = [0 for i in range(len(emotions))]\n",
    "        for token in tokens:\n",
    "            if(\"#\" not in token):\n",
    "                continue\n",
    "            p += 1\n",
    "            cnt = 0\n",
    "            for i in emotions:\n",
    "                if((token + \"_\" + i) in dict1_NRC):\n",
    "                    emo_score[cnt] += dict1_NRC[token + \"_\" + i]\n",
    "                cnt += 1\n",
    "        feat_.append([i/(p + (i == 0)) for i in emo_score])\n",
    "    return np.array(feat_)\n",
    "\n",
    "def emoticon_score(X):\n",
    "    #afin emotion processing \n",
    "    dict1_afin = {}\n",
    "    with open(\"lexicons/9. AFINN-emoticon-8.txt\", 'r') as fd:\n",
    "        for line in fd:\n",
    "            x = line.split(\"\t\")\n",
    "            if(float(x[1]) >= 0):\n",
    "                dict1_afin[x[0] + \"_positive\"] = (float(x[1]))\n",
    "                dict1_afin[x[0] + \"_negative\"] = 0\n",
    "            else:\n",
    "                dict1_afin[x[0] + \"_positive\"] = 0\n",
    "                dict1_afin[x[0] + \"_negative\"] = abs(float(x[1]))\n",
    "                \n",
    "    #feature extraction\n",
    "    feat_ = []\n",
    "    for tokens in X:\n",
    "        f = [0,0]\n",
    "        for token in tokens:\n",
    "            if((token + \"_negative\") in dict1_afin):\n",
    "                f[0] += dict1_afin[token + \"_negative\"]\n",
    "            if((token + \"_positive\") in dict1_afin):\n",
    "                f[1] += dict1_afin[token + \"_positive\"]\n",
    "        feat_.append(f)\n",
    "    return np.array(feat_)\n",
    "def count_neg_words(X):\n",
    "    #feature extraction\n",
    "    feat_ = []\n",
    "    for tokens in X:\n",
    "        f = [0]\n",
    "        p = mark_negation(tokens)\n",
    "        for i in p:\n",
    "            if(\"_NEG\" in i):\n",
    "                f[0] += 1\n",
    "        feat_.append(f)\n",
    "    return np.array(feat_)\n",
    "\n",
    "def word_2_vec(X):\n",
    "    #word2vec feature extraction\n",
    "    model = Word2Vec(X, min_count = 0)\n",
    "    feat_ = []\n",
    "#     print(X)\n",
    "    for tokens in X:\n",
    "        f = [-1,-1,-1]\n",
    "        flag = -1\n",
    "        \n",
    "        for token in tokens:\n",
    "            if(flag == -1):\n",
    "                flag = 0\n",
    "                f[0] = model[token]\n",
    "                f[1] = model[token]\n",
    "                f[2] = model[token]\n",
    "            else:\n",
    "                f[0] = np.add(model[token],f[0]) #average\n",
    "                f[1] = np.maximum(f[1],model[token]) #maximum\n",
    "                f[2] = np.minimum(f[2],model[token]) #minimum\n",
    "        \n",
    "        if(flag == -1):\n",
    "            f[0] = model['I']\n",
    "            f[1] = model['I']\n",
    "            f[2] = model['I']\n",
    "            \n",
    "        f[0] = np.divide(f[0],len(tokens))\n",
    "        res = []\n",
    "        for i in f:\n",
    "            for j in range(i.shape[0]):\n",
    "                res.append(i[j])\n",
    "        feat_.append(res)\n",
    "    return np.array(feat_)\n",
    "def doc_2_vec(Xtext):\n",
    "    #doc2vec feature extraction\n",
    "    cnt = 0;\n",
    "    documents = []\n",
    "    for i in Xtext:\n",
    "        for j,doc in enumerate(i):\n",
    "            documents.append(TaggedDocument(doc,[cnt]))\n",
    "            cnt += 1\n",
    "            \n",
    "    model = Doc2Vec(documents)\n",
    "\n",
    "    feat_ = []\n",
    "    for sent in Xtext:\n",
    "        f = [-1]\n",
    "\n",
    "        f = model.infer_vector(sent)\n",
    "\n",
    "        feat_.append(f)\n",
    "    return np.array(feat_)\n",
    "\n",
    "#funciton to process sentences\n",
    "def preprocess(tweet):\n",
    "    tweet = word_tokenize(tweet)\n",
    "    sent = ' '.join([words for words in tweet if words not in cachedStopWords])\n",
    "    return sent\n",
    "\n",
    "#unigram construction\n",
    "def unigram(tweetsarr, tweetTokenized):\n",
    "    #combining all tokens\n",
    "    n = len(tweetsarr)\n",
    "    tokensCombined = []\n",
    "    for i, tokens in enumerate(tweetTokenized):\n",
    "        tokensCombined.extend(tokens)\n",
    "\n",
    "    #get freqdistribution\n",
    "    analysis = nltk.FreqDist(tokensCombined)\n",
    "\n",
    "    del tokensCombined\n",
    "    #mapping construction\n",
    "    frequencyDict = dict([(m, n) for m, n in analysis.items() if n > 35])\n",
    "    lenfrequencyDict = len(frequencyDict)\n",
    "    wordIndex = {}\n",
    "    for i, key in enumerate(frequencyDict.keys()):\n",
    "        wordIndex[key] = i\n",
    "    \n",
    "    frequencyDict.clear()\n",
    "#     print(lenfrequencyDict)\n",
    "\n",
    "    #feature extraction\n",
    "    featureVector1 = np.zeros([n, lenfrequencyDict])\n",
    "    for i, tokens in enumerate(tweetTokenized):\n",
    "        arr = np.zeros([lenfrequencyDict])\n",
    "        for token in tokens:\n",
    "            if token in wordIndex:\n",
    "                arr[wordIndex[token]] = 1\n",
    "        featureVector1[i] = arr\n",
    "\n",
    "    return featureVector1\n",
    "\n",
    "#bigram construction\n",
    "def bigram(tweetsarr):\n",
    "    #combining all bigrams\n",
    "    n = len(tweetsarr)\n",
    "    bigraminTweet = []\n",
    "    allbigrams = []\n",
    "    for tweet in tweetsarr:\n",
    "        bigrams = []\n",
    "        for i in range(1,len(tweet)):\n",
    "            bigrams.append(tweet[i-1] + \" \" + tweet[i])\n",
    "        bigraminTweet.append(bigrams)\n",
    "        allbigrams.extend(bigrams)\n",
    "\n",
    "    #get freqdistribution\n",
    "    analysis = nltk.FreqDist(allbigrams)\n",
    "    del allbigrams\n",
    "    frequencybigramDict = dict([(m, n) for m, n in analysis.items() if n > 25])\n",
    "    lenfrequencybigramDict = len(frequencybigramDict)\n",
    "\n",
    "    bigramIndexDict = {}\n",
    "    for i, key in enumerate(frequencybigramDict.keys()):\n",
    "        bigramIndexDict[key] = i\n",
    "    frequencybigramDict.clear()\n",
    "\n",
    "    #feature extraction\n",
    "    featureVector2 = np.zeros([n, lenfrequencybigramDict])\n",
    "    for i, bigramTweet in enumerate(bigraminTweet):\n",
    "        arr = np.zeros([lenfrequencybigramDict])\n",
    "        for bigram in bigramTweet:\n",
    "            if bigram in bigramIndexDict:\n",
    "                arr[bigramIndexDict[bigram]] = 1\n",
    "        featureVector2[i] = arr\n",
    "    del bigraminTweet\n",
    "\n",
    "    return featureVector2\n",
    "def tfidf_feat(Xtext):\n",
    "    total_txt = []\n",
    "    for sents in Xtext:\n",
    "        temp = \"\"\n",
    "        for sent in sents:\n",
    "            temp += sent + \" \"\n",
    "        total_txt.append(temp)\n",
    "#     print(total_txt[:10])\n",
    "    tfidf = TfidfVectorizer(min_df = 25, max_df = 0.7, ngram_range = (1, 2)) \n",
    "    features = tfidf.fit_transform(total_txt)\n",
    "#     print(features.toarray())\n",
    "    return features.toarray()\n",
    "def feature_extraction(Xtext,X):\n",
    "    word_vec = doc_2_vec(X)#10\n",
    "    VADER = feature_VADER(Xtext) #1\n",
    "    polar = polar_wordMPQA(X) #2\n",
    "    agg_word_score = aggregate_score_word(X) #3\n",
    "    agg_hash_score = aggregate_hashtag_scores(X) #4\n",
    "    emot_word = emotion_word_count(X) #5\n",
    "    emot_word_score = emotion_word_score(X) #6\n",
    "    emote_hash_score = emotion_hashtag_score(X) #7\n",
    "    emoticon = emoticon_score(X)#8\n",
    "    neg_words = count_neg_words(X)#9\n",
    "    uni = unigram(Xtext,X) #unigram feature extraction\n",
    "    pca = PCA(n_components=0.9)\n",
    "    print(uni.shape)\n",
    "    bi = bigram(X) #bigram feature extraction\n",
    "    print(bi.shape)\n",
    "    \n",
    "    a = len(Xtext)\n",
    "    b = word_vec.shape[1] + uni.shape[1] + bi.shape[1] + VADER.shape[1] + polar.shape[1] + agg_word_score.shape[1] + agg_hash_score.shape[1] + emot_word.shape[1] + emot_word_score.shape[1] + emote_hash_score.shape[1] + emoticon.shape[1] + neg_words.shape[1]\n",
    "    \n",
    "     #feature combination\n",
    "    feature = np.zeros([a, b])\n",
    "    for i in range(len(Xtext)):\n",
    "        feature[i] = np.concatenate((word_vec[i],bi[i],uni[i],VADER[i],polar[i],agg_word_score[i],agg_hash_score[i],emot_word[i],emot_word_score[i],emote_hash_score[i],emoticon[i],neg_words[i]))\n",
    "    print(feature.shape)\n",
    "    \n",
    "    return feature\n",
    "\n",
    "def feature_extraction_rem_n(Xtext,X):\n",
    "    word_vec = doc_2_vec(X)#10\n",
    "    VADER = feature_VADER(Xtext) #1\n",
    "    polar = polar_wordMPQA(X) #2\n",
    "    agg_word_score = aggregate_score_word(X) #3\n",
    "    agg_hash_score = aggregate_hashtag_scores(X) #4\n",
    "    emot_word = emotion_word_count(X) #5\n",
    "    emot_word_score = emotion_word_score(X) #6\n",
    "    emote_hash_score = emotion_hashtag_score(X) #7\n",
    "    emoticon = emoticon_score(X)#8\n",
    "    neg_words = count_neg_words(X)#9\n",
    "    \n",
    "    a = len(Xtext)\n",
    "    b = word_vec.shape[1]  + VADER.shape[1] + polar.shape[1] + agg_word_score.shape[1] + agg_hash_score.shape[1] + emot_word.shape[1] + emot_word_score.shape[1] + emote_hash_score.shape[1] + emoticon.shape[1] + neg_words.shape[1]\n",
    "    \n",
    "     #feature combination\n",
    "    feature = np.zeros([a, b])\n",
    "    for i in range(len(Xtext)):\n",
    "        feature[i] = np.concatenate((word_vec[i],VADER[i],polar[i],agg_word_score[i],agg_hash_score[i],emot_word[i],emot_word_score[i],emote_hash_score[i],emoticon[i],neg_words[i]))\n",
    "    print(feature.shape)\n",
    "    \n",
    "    return feature\n",
    "def feature_extraction_tfidf(Xtext,X):\n",
    "    tfidf1 = np.array(tfidf_feat(Xtext))\n",
    "#     print(tfidf1.shape,\"10231231\")\n",
    "    VADER = feature_VADER(Xtext) #1\n",
    "    polar = polar_wordMPQA(X) #2\n",
    "    agg_word_score = aggregate_score_word(X) #3\n",
    "    agg_hash_score = aggregate_hashtag_scores(X) #4\n",
    "    emot_word = emotion_word_count(X) #5\n",
    "    emot_word_score = emotion_word_score(X) #6\n",
    "    emote_hash_score = emotion_hashtag_score(X) #7\n",
    "    emoticon = emoticon_score(X)#8\n",
    "    neg_words = count_neg_words(X)#9\n",
    "    print(\"done\")\n",
    "    word_vec = doc_2_vec(X)#10\n",
    "\n",
    "    \n",
    "    a = len(Xtext)\n",
    "    b = tfidf1.shape[1] + word_vec.shape[1]  + VADER.shape[1] + polar.shape[1] + agg_word_score.shape[1] + agg_hash_score.shape[1] + emot_word.shape[1] + emot_word_score.shape[1] + emote_hash_score.shape[1] + emoticon.shape[1] + neg_words.shape[1]\n",
    "    \n",
    "     #feature combination\n",
    "    feature = np.zeros([a, b])\n",
    "    for i in range(len(Xtext)):\n",
    "        feature[i] = np.concatenate((tfidf1[i],word_vec[i],VADER[i],polar[i],agg_word_score[i],agg_hash_score[i],emot_word[i],emot_word_score[i],emote_hash_score[i],emoticon[i],neg_words[i]))\n",
    "    print(feature.shape)\n",
    "    \n",
    "    return feature\n"
   ]
  },
  {
   "cell_type": "code",
   "execution_count": 3,
   "metadata": {},
   "outputs": [],
   "source": [
    "from sklearn.linear_model import LogisticRegression\n",
    "\n",
    "\n",
    "def get_json(path):\n",
    "    try:\n",
    "        with open(path,\"r\",encoding='utf-8') as f:\n",
    "            json_file = json.load(f)\n",
    "    except:\n",
    "        return None\n",
    "    return json_file\n",
    "\n"
   ]
  },
  {
   "cell_type": "code",
   "execution_count": 4,
   "metadata": {},
   "outputs": [],
   "source": [
    "train = pd.read_csv(\"train/train.csv\")\n",
    "test = pd.read_csv(\"test/test.csv\")\n",
    "lemmatizer = WordNetLemmatizer() "
   ]
  },
  {
   "cell_type": "code",
   "execution_count": 5,
   "metadata": {},
   "outputs": [
    {
     "name": "stdout",
     "output_type": "stream",
     "text": [
      "['86e1089a3' '6296e909a' '3422e4906' ... 'd981b6395' 'e4da1c9e4'\n",
      " 'a83d95ead']\n"
     ]
    }
   ],
   "source": [
    "train_pet_ids = train.PetID.unique()\n",
    "test_pet_ids = test.PetID.unique()\n",
    "stop_words = set(stopwords.words('english'))\n",
    "print(train_pet_ids)"
   ]
  },
  {
   "cell_type": "code",
   "execution_count": 6,
   "metadata": {
    "scrolled": true
   },
   "outputs": [
    {
     "name": "stdout",
     "output_type": "stream",
     "text": [
      "[[' Nibble month old ball cuteness', ' He energetic playful', ' I rescued couple cat month ago could get neutered time clinic fully scheduled', ' The result little kitty', ' I enough space fund care cat household', ' Looking responsible people take Nibble care'], [' I found alone yesterday near apartment', ' It shaking I bring home provide temporary care'], [' Their pregnant mother dumped irresponsible owner roadside near shop Subang Jaya', ' Gave birth roadside', ' They healthy adorable puppy', ' Already dewormed vaccinated ready go home', ' No tying caging long hour guard dog', ' However acceptable cage tie precautionary purpose', ' Interested adopt pls call'], [' Good guard dog alert active obedience waiting good master plz call sm detail really get interested thanks'], [' This handsome yet cute boy adoption', ' He playful pal seen puppy', ' He love nibble shoelace Chase young age', ' Imagine cute brat grows', ' We looking loving home Hunter one take care give love need', ' Please call urgently would like adopt cutie'], [' This stray kitten came house', ' Have feeding keep'], [' anyone within area ipoh taiping interested adopt cat contact father number mazuvil email', ' currently bulat hometown perak anyone outside area still want adopt travel hometown.there lot cat house rite think let one go better owner give better attention'], [' Siu Pak give birth', ' Interested pls call sm', ' Left puppy'], [' healthy active feisty kitten found neighbour garden', ' Not sure sex'], [' Very manja gentle stray cat found would really like find home keep long', ' Has cute high pitch soft meow', ' Please contact would interested adopting']]\n",
      "[{'magnitude': 2.2, 'score': 1.8000000000000003}, {'magnitude': 0.7, 'score': -0.5}, {'magnitude': 3.4000000000000004, 'score': 1.4}, {'magnitude': 0.9, 'score': 0.9}, {'magnitude': 3.5, 'score': 3.5}, {'magnitude': 0.2, 'score': -0.2}, {'magnitude': 0.5, 'score': 0.5}, {'magnitude': 0.8, 'score': 0.39999999999999997}, {'magnitude': 0.4, 'score': 0.19999999999999998}, {'magnitude': 1.0, 'score': 0.8}]\n"
     ]
    }
   ],
   "source": [
    "train_text = []\n",
    "train_offsets = [] #notes range of each petid\n",
    "train_sentiment = []\n",
    "text_g = \"\"\n",
    "for id in train_pet_ids:\n",
    "    js = get_json(\"train_sentiment/\" + id + \".json\")\n",
    "    if(js == None):\n",
    "        text_g += \" Nan\"\n",
    "        train_text.append(\"Nan\")\n",
    "        train_offsets.append(1)\n",
    "        train_sentiment.append({'magnitude': 0.0, 'score': 0.0})\n",
    "        continue\n",
    "    count = 0;\n",
    "    l = []\n",
    "    f = {\"magnitude\": 0, 'score' : 0}\n",
    "    for sent in js['sentences']:\n",
    "        t = \"\"\n",
    "        \n",
    "        tokens = word_tokenize(sent['text']['content'])\n",
    "        for j in tokens:\n",
    "            if(re.match(\"[A-Za-z]+\",j) and j not in stop_words):\n",
    "                t += \" \" + lemmatizer.lemmatize(j)\n",
    "        l.append(t)\n",
    "\n",
    "        text_g += \" \" + t\n",
    "        count += 1\n",
    "        f[\"magnitude\"] += sent['sentiment']['magnitude']\n",
    "        f[\"score\"] += sent['sentiment']['score']\n",
    "        \n",
    "    train_text.append(l)\n",
    "    train_sentiment.append(f)\n",
    "    train_offsets.append(count)\n",
    "print(train_text[:10])\n",
    "print(train_sentiment[:10])\n",
    "#train_data"
   ]
  },
  {
   "cell_type": "code",
   "execution_count": 7,
   "metadata": {
    "scrolled": true
   },
   "outputs": [
    {
     "name": "stdout",
     "output_type": "stream",
     "text": [
      "[[' Dopey Age old Male One half pair Dopey reserved one compared brother Grey', ' However love petted active nature', ' Loves chase ball play anything mobile', ' Favourite hobby Watching TV near TV screen', ' Grey Age old Male The wonder twin Grey Dopey brotherly protects', ' Grey dominant Dopey elder one playful', ' Favourite hobby Loves sit door look outside'], [' Please note Chichi neutered therefore breed', ' ChiChi Persian difference She silent cat', ' She love petted need regular grooming cleaning', ' She defective tearduct right eye requires daily cleaning', ' She neutered go vaccinated routine regularly', ' Favourite hobby Loves roam enjoys outside scenery', ' Please email interested comment harder keep track'], [' Sticky named tendency stick cuddle found two sibling campus', ' These cuties looking nice home', ' The adoption fee deposit hold onto kitty neutered', ' Alternatively could let u use deposit contact help carry sterilization vet time', ' We looking cat loving friendly adopter', ' If interested ball fluff please contact Dulani', ' Thank'], [' Dannie Kass mother daughter', ' We encountered year ago campus', ' They made quite lot friend student', ' They extremely friendly Kass mother calm dog whereas Dannie ball energy.We know Dannie year old', ' And Kass year old', ' After campus decided dog way kind nice stray', ' They sweet pet lucky person decides adopt one', ' They placed good care vaccinated dewormed sterilized well made healthy adopted good home', ' Now time come dismay taken good care', ' They missed', ' If adopt dog prepare keep u updated well-being least little know looked', ' Looking forward hearing interested adopting beauty', ' You may contact Paul information', ' But adoption handled Dulani Vinuri interested adopt'], [' Extremely cuddly cat hence origin name', ' We found sick outside Kajang brought vet', ' Now healthy want good home loving family', ' If interested cuddle please contact'], [' Porridge cat looking place call home', ' He vast amount affection need venting returned', ' If want cat love love returned cat want', ' We ask deposit ensure complete certain procedure Porridge.The money returned completed', ' If interested adopting Porridge please contact number found profile find information go directly one charge adoption Dulani'], [' We first met Sultan campus hiding everyone looking scrap food wherever could find', ' He shy angry tried approach', ' However warmed people within couple day feeding giving long overdue affection', ' He completely tame loving.Sultan gorgeous loving cat recently rescued', ' He taken veterinarian diagnosed FeLV Feline Leukemia Virus', ' A viral disease make susceptible infection', ' Due man need tight leash infected sore wound could take longer heal', ' It lethal cat condition able live healthy life', ' extra care mostly keeping away cat could potentially give infection', ' Sultan strong cat state fast recovery', ' He quite social welcome petting session', ' He big appetite enjoys playing headphone wire', ' If becomes ill condition need antibiotic fight infection well', ' If interested adopting Sultan contact Fatma whatsapp call message'], [' These darling found university campus Selangor Semenyih', ' The mother well-known cat everyone look gave birth adorable friendly ball fluff', ' We want good home prefer sent pair playful together', ' They male used cuddle', ' If choose adopt expected vaccinated sterilized old enough', ' We want update every make sure well cared happy new home', ' At moment cared animal welfare society kept freelancing mother', ' But need home soon', ' You may contact Dulani Vinuri interested adopt', ' You may also contact Areen Paul want information', ' We look forward hear', ' EDIT got adopted pair left', ' These also would prefer stay together', ' EDIT PLEASE NOTE WE WILL BE ASKING FOR A DEPOSIT OF RM SO THAT WE CAN ENSURE THE CAT WILL BE VACCINATED AND NEUTERED WHEN IT IS DUE'], 'Nan', [' Hi dalmamation mix female dog give away gentle nature amp pretty amp cute currently give away space freedom good kid amp good watch dog well', ' fee impose wen taking dog condition must made', ' THE DOG MUST BE SPAYED DEWORMED amp VACINNATED BY NEW OWNER WEN ITS ADOPTED BY OWNER THE NEW DOG OWNER WILL BE SCREEN FIRST TO ENSURE THEY R REALLY SERIOUS DOG LOVER NEW OWNER PREMISES MUST HAVE AMPLE SPACE FOR D DOG TO RUN AROUND location dog malacca owner anywhere else dog must spayed malacca bringing outstation owner malacca preferred kindly contact via email sm u r interested thanks']]\n",
      "[{'magnitude': 4.9, 'score': 4.7}, {'magnitude': 2.9, 'score': 0.9}, {'magnitude': 2.4, 'score': 1.2000000000000002}, {'magnitude': 5.5, 'score': 5.5}, {'magnitude': 2.0, 'score': 1.6}, {'magnitude': 0.7999999999999999, 'score': -0.2}, {'magnitude': 5.900000000000001, 'score': 3.5}, {'magnitude': 3.0000000000000004, 'score': 3.0000000000000004}, {'magnitude': 0.0, 'score': 0.0}, {'magnitude': 1.1, 'score': -0.09999999999999998}]\n"
     ]
    }
   ],
   "source": [
    "len1 = []\n",
    "test_offsets = [] #notes range of each petid\n",
    "test_sentiment = []\n",
    "test_text = []\n",
    "\n",
    "for id in test_pet_ids:\n",
    "    js = get_json(\"test_sentiment/\" + id + \".json\")\n",
    "    if(js == None):\n",
    "        text_g += \" Nan\"\n",
    "        test_text.append(\"Nan\")\n",
    "        test_offsets.append(1)\n",
    "        test_sentiment.append({'magnitude': 0.0, 'score': 0.0})\n",
    "        continue\n",
    "    count = 0;\n",
    "    l = []\n",
    "    f = {\"magnitude\": 0, 'score' : 0}\n",
    "    for sent in js['sentences']:\n",
    "        t = \"\"\n",
    "        \n",
    "        tokens = word_tokenize(sent['text']['content'])\n",
    "        for j in tokens:\n",
    "            if(re.match(\"[A-Za-z]+\",j) and j not in stop_words):\n",
    "                t += \" \" + lemmatizer.lemmatize(j)\n",
    "        l.append(t)\n",
    "\n",
    "        text_g += \" \" + t\n",
    "        count += 1\n",
    "        f[\"magnitude\"] += sent['sentiment']['magnitude']\n",
    "        f[\"score\"] += sent['sentiment']['score']\n",
    "        \n",
    "    test_text.append(l)\n",
    "    test_sentiment.append(f)\n",
    "    test_offsets.append(count)\n",
    "\n",
    "print(test_text[:10])\n",
    "print(test_sentiment[:10])    \n",
    "#test_data"
   ]
  },
  {
   "cell_type": "code",
   "execution_count": 8,
   "metadata": {},
   "outputs": [
    {
     "name": "stderr",
     "output_type": "stream",
     "text": [
      "75it [00:00, 726.71it/s]"
     ]
    },
    {
     "name": "stdout",
     "output_type": "stream",
     "text": [
      "14993\n"
     ]
    },
    {
     "name": "stderr",
     "output_type": "stream",
     "text": [
      "18965it [00:13, 1418.61it/s]\n"
     ]
    }
   ],
   "source": [
    "total_text = train_text[:] + test_text[:]\n",
    "print(len(train_text))\n",
    "\n",
    "#lemmatizing all words to get a common root word.\n",
    "total_token = []\n",
    "for ind,i in tqdm(enumerate(total_text)):\n",
    "    temp = []\n",
    "    for sent in i:\n",
    "        e = word_tokenize(sent)\n",
    "        for word in e:\n",
    "            temp.append(lemmatizer.lemmatize(word))\n",
    "    total_token.append(temp)\n"
   ]
  },
  {
   "cell_type": "code",
   "execution_count": 9,
   "metadata": {},
   "outputs": [
    {
     "name": "stdout",
     "output_type": "stream",
     "text": [
      "(18965, 4727)\n"
     ]
    }
   ],
   "source": [
    "#feature extraction\n",
    "print(tfidf_feat(total_text).shape)"
   ]
  },
  {
   "cell_type": "code",
   "execution_count": null,
   "metadata": {},
   "outputs": [],
   "source": [
    "feat_ = feature_extraction(total_text,total_token)\n",
    "np.save(\"test_features.npy\",feat_)\n",
    "#features with ngram"
   ]
  },
  {
   "cell_type": "code",
   "execution_count": null,
   "metadata": {},
   "outputs": [],
   "source": [
    "feat_ = feature_extraction_rem_n(total_text,total_token)\n",
    "np.save(\"test_features_without_ngram.npy\",feat_)\n",
    "print(feat_.shape)\n",
    "#features without ngram"
   ]
  },
  {
   "cell_type": "code",
   "execution_count": 53,
   "metadata": {},
   "outputs": [
    {
     "name": "stdout",
     "output_type": "stream",
     "text": [
      "(18965, 4727) 10231231\n"
     ]
    },
    {
     "name": "stderr",
     "output_type": "stream",
     "text": [
      "18965it [00:04, 4509.99it/s]\n",
      "18965it [00:00, 29680.34it/s]\n",
      "18965it [00:00, 129165.63it/s]\n"
     ]
    },
    {
     "name": "stdout",
     "output_type": "stream",
     "text": [
      "done\n"
     ]
    },
    {
     "name": "stderr",
     "output_type": "stream",
     "text": [
      "WARNING:gensim.models.doc2vec:Each 'words' should be a list of words (usually unicode strings). First 'words' here is instead plain <class 'str'>.\n"
     ]
    },
    {
     "name": "stdout",
     "output_type": "stream",
     "text": [
      "(18965, 4877)\n",
      "(18965, 4877)\n"
     ]
    }
   ],
   "source": [
    "feat_ = feature_extraction_tfidf(total_text,total_token)\n",
    "np.save(\"test_features_with_tfidf-ngram.npy\",feat_)\n",
    "print(feat_.shape)\n",
    "#features with tfidf and ngram"
   ]
  },
  {
   "cell_type": "code",
   "execution_count": 10,
   "metadata": {},
   "outputs": [
    {
     "name": "stdout",
     "output_type": "stream",
     "text": [
      "(18965, 4446)\n"
     ]
    }
   ],
   "source": [
    "feat_ = np.load(\"test_features.npy\")\n",
    "print(feat_.shape)\n",
    "#test features"
   ]
  },
  {
   "cell_type": "code",
   "execution_count": 11,
   "metadata": {},
   "outputs": [
    {
     "name": "stdout",
     "output_type": "stream",
     "text": [
      "(18965, 150)\n"
     ]
    }
   ],
   "source": [
    "feat_without_ngram = np.load(\"test_features_without_ngram.npy\")\n",
    "print(feat_without_ngram.shape)\n",
    "#test features without ngram"
   ]
  },
  {
   "cell_type": "code",
   "execution_count": 12,
   "metadata": {},
   "outputs": [
    {
     "name": "stdout",
     "output_type": "stream",
     "text": [
      "(18965, 4877)\n"
     ]
    }
   ],
   "source": [
    "feat_with_tfidf = np.load(\"test_features_with_tfidf-ngram.npy\")\n",
    "print(feat_with_tfidf.shape)\n",
    "#test features with tfidf and ngram"
   ]
  },
  {
   "cell_type": "code",
   "execution_count": 13,
   "metadata": {},
   "outputs": [],
   "source": [
    "#functions to train and test different models \n",
    "def svmModel(X, Y,Xtest,Ytest):\n",
    "    SVM = svm.SVC()\n",
    "    SVM.fit(X, Y)\n",
    "    prediction = SVM.predict(Xtest)\n",
    "    print(\"Svm accuracy \", accuracy_score(prediction, Ytest))\n",
    "    print(\"Svm QWK \", quadratic_weighted_kappa(prediction, Ytest))\n",
    "    return prediction,Ytest\n",
    "def decisionTreeModel(X, Y,Xtest,Ytest):\n",
    "    dt = DecisionTreeClassifier()\n",
    "    dt.fit(X, Y)\n",
    "    prediction = dt.predict(Xtest)\n",
    "    print(\"DT accuracy \",  accuracy_score(prediction, Ytest))\n",
    "    return prediction,Ytest\n",
    "def mlpModel(X, Y,Xtest,Ytest):\n",
    "#     print(\"MLP Model Start\")\n",
    "    classifier = MLPClassifier()\n",
    "    # classifier = MLPClassifier(random_state=1, max_iter=300)\n",
    "    classifier.fit(X, Y)\n",
    "    prediction = classifier.predict(Xtest)\n",
    "    print(\"MLP accuracy \",  accuracy_score(prediction, Ytest))\n",
    "    return prediction,Ytest\n",
    "def RandomForest(X,Y,Xtest,Ytest):\n",
    "    classifier = RandomForestClassifier()\n",
    "    classifier.fit(X, Y)\n",
    "    prediction = classifier.predict(Xtest)\n",
    "    print(\"Randomforest accuracy \",  accuracy_score(prediction, Ytest))\n",
    "    return prediction,Ytest\n",
    "def linearSVC(X,Y,Xtest,Ytest):\n",
    "    classifier = LinearSVC(random_state=0, tol=1e-5,max_iter = 10000)\n",
    "    classifier.fit(X, Y)\n",
    "    prediction = classifier.predict(Xtest)\n",
    "    print(\"Linear SVC accuracy \",  accuracy_score(prediction, Ytest))\n",
    "    return prediction,Ytest\n",
    "def KNN(X,Y,Xtest,Ytest):\n",
    "    classifier = KNeighborsClassifier(random_state=0, tol=1e-5,max_iter = 10000)\n",
    "    classifier.fit(X, Y)\n",
    "    prediction = classifier.predict(Xtest)\n",
    "    print(\"KNN accuracy \",  accuracy_score(prediction, Ytest))\n",
    "    return prediction,Ytest\n",
    "def Kmeans(X,Y,Xtest,Ytest):\n",
    "    classifier = KMeans(n_clusters=2, random_state=0).fit(X)\n",
    "    prediction = classifier.predict(Xtest)\n",
    "    print(\"KMeans accuracy \",  accuracy_score(prediction, Ytest))\n",
    "    return prediction,Ytest\n",
    "def Adaboost(X,Y,Xtest,Ytest):\n",
    "    classifier = AdaBoostClassifier()\n",
    "    classifier.fit(X, Y)\n",
    "    prediction = classifier.predict(Xtest)\n",
    "    print(\"Adaboost accuracy \",  accuracy_score(prediction, Ytest))\n",
    "    return prediction,Ytest\n",
    "def xgboost(X,Y,Xtest,Ytest):\n",
    "    classifier = GradientBoostingClassifier()\n",
    "    classifier.fit(X, Y)\n",
    "    prediction = classifier.predict(Xtest)\n",
    "    print(\"XGBoost accuracy \",  accuracy_score(prediction, Ytest))\n",
    "    return prediction,Ytest\n",
    "def logistic(X,Y,Xtest,Ytest):\n",
    "    classifier = LogisticRegression(max_iter = 20000)\n",
    "    classifier.fit(X, Y)\n",
    "    prediction = classifier.predict(Xtest)\n",
    "    print(\"logistic accuracy \",  accuracy_score(prediction, Ytest))\n",
    "    return prediction,Ytest\n",
    "def test_models(X,Y,Xtest,Ytest):\n",
    "    decisionTreeModel(X,Y,Xtest,Ytest)\n",
    "    RandomForest(X,Y,Xtest,Ytest)\n",
    "    linearSVC(X,Y,Xtest,Ytest)\n",
    "    Adaboost(X,Y,Xtest,Ytest)\n",
    "    xgboost(X,Y,Xtest,Ytest)\n",
    "    logistic(X,Y,Xtest,Ytest)\n",
    "    svmModel(X,Y,Xtest,Ytest)\n",
    "    mlpModel(X,Y,Xtest,Ytest)"
   ]
  },
  {
   "cell_type": "code",
   "execution_count": 20,
   "metadata": {},
   "outputs": [],
   "source": [
    "test_features = feat_with_tfidf[len(train_text):]\n",
    "train_features = feat_with_tfidf[:len(train_text)]"
   ]
  },
  {
   "cell_type": "code",
   "execution_count": 15,
   "metadata": {},
   "outputs": [
    {
     "name": "stdout",
     "output_type": "stream",
     "text": [
      "testing\n",
      "Linear SVC accuracy  0.32408642304614566\n"
     ]
    },
    {
     "data": {
      "text/plain": [
       "(array([1, 3, 1, ..., 4, 2, 1]), array([4, 4, 4, ..., 1, 4, 4]))"
      ]
     },
     "execution_count": 15,
     "metadata": {},
     "output_type": "execute_result"
    }
   ],
   "source": [
    "\n",
    "#only text-tidf features\n",
    "test_features = feat_with_tfidf[len(train_text):]\n",
    "train_features = feat_with_tfidf[:len(train_text)]\n",
    "y_train = pd.read_csv(\"/home/alphaq2/Desktop/COURSE_PROJECT/ML_PROJECT/train/train_onehot.csv\")\n",
    "y_train = np.array(y_train[\"AdoptionSpeed\"])\n",
    "\n",
    "x_train, x_test, y_train, y_test = train_test_split(train_features, y_train, test_size=0.25, random_state=0)\n",
    "scaler = MinMaxScaler()\n",
    "x_train = scaler.fit_transform(x_train)\n",
    "x_test = scaler.fit_transform(x_test)\n",
    "print(\"testing\")\n",
    "linearSVC(x_train,y_train,x_test,y_test)"
   ]
  },
  {
   "cell_type": "code",
   "execution_count": null,
   "metadata": {},
   "outputs": [],
   "source": [
    "#using All modolaties features features\n",
    "y_train1 = pd.read_csv(\"/home/alphaq2/Desktop/COURSE_PROJECT/ML_PROJECT/train/train_onehot.csv\")\n",
    "csv_x = np.load(\"train/train_csv/train_X.npy\")\n",
    "csv_y = np.load(\"train/train_csv/train_Y.npy\")\n",
    "y_train1 = np.array(y_train1[\"AdoptionSpeed\"])\n",
    "\n",
    "img_x = pd.read_csv(\"train_img_features_VGG16.csv\")\n",
    "img_x = img_x.drop([\"AdoptionSpeed\"],axis = 1)\n",
    "# print(img_x.head())\n",
    "img_x = img_x.to_numpy()[:, 1:]\n",
    "pca = PCA(n_components = 0.95)\n",
    "test_features = feat_with_tfidf[len(train_text):]\n",
    "train_features = feat_with_tfidf[:len(train_text)]\n",
    "y_train = pd.read_csv(\"/home/alphaq2/Desktop/COURSE_PROJECT/ML_PROJECT/train/train_onehot.csv\")\n",
    "y_train = np.array(y_train[\"AdoptionSpeed\"])\n",
    "\n",
    "elite_x = np.concatenate((csv_x,train_features,img_x),axis = 1)\n",
    "elite_x = pca.fit_transform(elite_x)\n",
    "x_train, x_test, y_train, y_test = train_test_split(elite_x, y_train1, test_size=0.25, random_state=0)\n",
    "scaler = MinMaxScaler()\n",
    "x_train = scaler.fit_transform(x_train)\n",
    "x_test = scaler.fit_transform(x_test)\n",
    "print(\"testing\")\n",
    "test_models(x_train,y_train,x_test,y_test)"
   ]
  },
  {
   "cell_type": "code",
   "execution_count": 16,
   "metadata": {},
   "outputs": [],
   "source": [
    "test_features = feat_without_ngram[len(train_text):]\n",
    "train_features = feat_without_ngram[:len(train_text)]"
   ]
  },
  {
   "cell_type": "code",
   "execution_count": 17,
   "metadata": {},
   "outputs": [
    {
     "name": "stdout",
     "output_type": "stream",
     "text": [
      "testing\n",
      "Linear SVC accuracy  0.2816751133635636\n"
     ]
    },
    {
     "data": {
      "text/plain": [
       "(array([4, 4, 4, ..., 4, 4, 4]), array([4, 4, 4, ..., 1, 4, 4]))"
      ]
     },
     "execution_count": 17,
     "metadata": {},
     "output_type": "execute_result"
    }
   ],
   "source": [
    "#text features without ngram\n",
    "test_features = feat_without_ngram[len(train_text):]\n",
    "train_features = feat_without_ngram[:len(train_text)]\n",
    "# train_features = pca.fit_transform(train_features)\n",
    "y_train = pd.read_csv(\"/home/alphaq2/Desktop/COURSE_PROJECT/ML_PROJECT/train/train_onehot.csv\")\n",
    "y_train = np.array(y_train[\"AdoptionSpeed\"])\n",
    "\n",
    "x_train, x_test, y_train, y_test = train_test_split(train_features, y_train, test_size=0.25, random_state=0)\n",
    "scaler = MinMaxScaler()\n",
    "x_train = scaler.fit_transform(x_train)\n",
    "x_test = scaler.fit_transform(x_test)\n",
    "print(\"testing\")\n",
    "linearSVC(x_train,y_train,x_test,y_test)"
   ]
  },
  {
   "cell_type": "code",
   "execution_count": 2,
   "metadata": {},
   "outputs": [
    {
     "ename": "NameError",
     "evalue": "name 'pd' is not defined",
     "output_type": "error",
     "traceback": [
      "\u001b[0;31m---------------------------------------------------------------------------\u001b[0m",
      "\u001b[0;31mNameError\u001b[0m                                 Traceback (most recent call last)",
      "\u001b[0;32m<ipython-input-2-54eedba452ca>\u001b[0m in \u001b[0;36m<module>\u001b[0;34m\u001b[0m\n\u001b[0;32m----> 1\u001b[0;31m \u001b[0my_train1\u001b[0m \u001b[0;34m=\u001b[0m \u001b[0mpd\u001b[0m\u001b[0;34m.\u001b[0m\u001b[0mread_csv\u001b[0m\u001b[0;34m(\u001b[0m\u001b[0;34m\"/home/alphaq2/Desktop/COURSE_PROJECT/ML_PROJECT/train/train_onehot.csv\"\u001b[0m\u001b[0;34m)\u001b[0m\u001b[0;34m\u001b[0m\u001b[0;34m\u001b[0m\u001b[0m\n\u001b[0m\u001b[1;32m      2\u001b[0m \u001b[0mcsv_x\u001b[0m \u001b[0;34m=\u001b[0m \u001b[0mnp\u001b[0m\u001b[0;34m.\u001b[0m\u001b[0mload\u001b[0m\u001b[0;34m(\u001b[0m\u001b[0;34m\"train/train_csv/train_X.npy\"\u001b[0m\u001b[0;34m)\u001b[0m\u001b[0;34m\u001b[0m\u001b[0;34m\u001b[0m\u001b[0m\n\u001b[1;32m      3\u001b[0m \u001b[0mcsv_y\u001b[0m \u001b[0;34m=\u001b[0m \u001b[0mnp\u001b[0m\u001b[0;34m.\u001b[0m\u001b[0mload\u001b[0m\u001b[0;34m(\u001b[0m\u001b[0;34m\"train/train_csv/train_Y.npy\"\u001b[0m\u001b[0;34m)\u001b[0m\u001b[0;34m\u001b[0m\u001b[0;34m\u001b[0m\u001b[0m\n\u001b[1;32m      4\u001b[0m \u001b[0my_train1\u001b[0m \u001b[0;34m=\u001b[0m \u001b[0mnp\u001b[0m\u001b[0;34m.\u001b[0m\u001b[0marray\u001b[0m\u001b[0;34m(\u001b[0m\u001b[0my_train1\u001b[0m\u001b[0;34m[\u001b[0m\u001b[0;34m\"AdoptionSpeed\"\u001b[0m\u001b[0;34m]\u001b[0m\u001b[0;34m)\u001b[0m\u001b[0;34m\u001b[0m\u001b[0;34m\u001b[0m\u001b[0m\n\u001b[1;32m      5\u001b[0m \u001b[0;34m\u001b[0m\u001b[0m\n",
      "\u001b[0;31mNameError\u001b[0m: name 'pd' is not defined"
     ]
    }
   ],
   "source": [
    "#using all the modalities\n",
    "y_train1 = pd.read_csv(\"/home/alphaq2/Desktop/COURSE_PROJECT/ML_PROJECT/train/train_onehot.csv\")\n",
    "csv_x = np.load(\"train/train_csv/train_X.npy\")\n",
    "csv_y = np.load(\"train/train_csv/train_Y.npy\")\n",
    "y_train1 = np.array(y_train1[\"AdoptionSpeed\"])\n",
    "\n",
    "img_x = pd.read_csv(\"train_img_features_VGG16.csv\")\n",
    "img_x = img_x.drop([\"AdoptionSpeed\"],axis = 1)\n",
    "\n",
    "img_x = img_x.to_numpy()[:, 1:]\n",
    "pca = PCA(n_components = 0.95)\n",
    "test_features = feat_without_ngram[len(train_text):]\n",
    "train_features = feat_without_ngram[:len(train_text)]\n",
    "y_train = pd.read_csv(\"/home/alphaq2/Desktop/COURSE_PROJECT/ML_PROJECT/train/train_onehot.csv\")\n",
    "y_train = np.array(y_train[\"AdoptionSpeed\"])\n",
    "\n",
    "elite_x = np.concatenate((csv_x,train_features,img_x),axis = 1)\n",
    "elite_x = pca.fit_transform(elite_x)\n",
    "x_train, x_test, y_train, y_test = train_test_split(elite_x, y_train1, test_size=0.25, random_state=0)\n",
    "scaler = MinMaxScaler()\n",
    "x_train = scaler.fit_transform(x_train)\n",
    "x_test = scaler.fit_transform(x_test)\n",
    "print(\"testing\")\n",
    "test_models(x_train,y_train,x_test,y_test)"
   ]
  },
  {
   "cell_type": "code",
   "execution_count": 13,
   "metadata": {},
   "outputs": [],
   "source": [
    "test_features = feat_[len(train_text):]\n",
    "train_features = feat_[:len(train_text)]"
   ]
  },
  {
   "cell_type": "code",
   "execution_count": 19,
   "metadata": {},
   "outputs": [
    {
     "name": "stdout",
     "output_type": "stream",
     "text": [
      "testing\n",
      "Linear SVC accuracy  0.3350226727127234\n"
     ]
    },
    {
     "data": {
      "text/plain": [
       "(array([2, 3, 4, ..., 2, 1, 4]), array([4, 4, 4, ..., 1, 4, 4]))"
      ]
     },
     "execution_count": 19,
     "metadata": {},
     "output_type": "execute_result"
    }
   ],
   "source": [
    "#using features with ngram\n",
    "test_features = feat_[len(train_text):]\n",
    "train_features = feat_[:len(train_text)]\n",
    "\n",
    "y_train = pd.read_csv(\"/home/alphaq2/Desktop/COURSE_PROJECT/ML_PROJECT/train/train_onehot.csv\")\n",
    "y_train = np.array(y_train[\"AdoptionSpeed\"])\n",
    "\n",
    "x_train, x_test, y_train, y_test = train_test_split(train_features, y_train, test_size=0.25, random_state=0)\n",
    "scaler = MinMaxScaler()\n",
    "x_train = scaler.fit_transform(x_train)\n",
    "x_test = scaler.fit_transform(x_test)\n",
    "print(\"testing\")\n",
    "linearSVC(x_train,y_train,x_test,y_test)"
   ]
  },
  {
   "cell_type": "code",
   "execution_count": null,
   "metadata": {},
   "outputs": [],
   "source": [
    "#using all the modalities with text - ngram\n",
    "csv_x = np.load(\"train/train_csv/train_X.npy\")\n",
    "csv_y = np.load(\"train/train_csv/train_Y.npy\")\n",
    "y_train1 = np.array(y_train1[\"AdoptionSpeed\"])\n",
    "\n",
    "img_x = pd.read_csv(\"train_img_features_VGG16.csv\")\n",
    "img_x = img_x.drop([\"AdoptionSpeed\"],axis = 1)\n",
    "# print(img_x.head())\n",
    "img_x = img_x.to_numpy()[:, 1:]\n",
    "pca = PCA(n_components = 0.95)\n",
    "test_features = feat_[len(train_text):]\n",
    "train_features = feat_[:len(train_text)]\n",
    "y_train = pd.read_csv(\"/home/alphaq2/Desktop/COURSE_PROJECT/ML_PROJECT/train/train_onehot.csv\")\n",
    "y_train = np.array(y_train[\"AdoptionSpeed\"])\n",
    "train_features = pca.fit_transform(train_features)\n",
    "elite_x = np.concatenate((csv_x,train_features,img_x),axis = 1)\n",
    "\n",
    "x_train, x_test, y_train, y_test = train_test_split(elite_x, y_train1, test_size=0.25, random_state=0)\n",
    "scaler = StandardScaler()\n",
    "x_train = scaler.fit_transform(x_train)\n",
    "x_test = scaler.fit_transform(x_test)\n",
    "print(x_train.shape)\n",
    "print(\"testing\")\n",
    "test_models(x_train,y_train,x_test,y_test)"
   ]
  },
  {
   "cell_type": "code",
   "execution_count": 21,
   "metadata": {},
   "outputs": [
    {
     "name": "stdout",
     "output_type": "stream",
     "text": [
      "(11244, 129)\n",
      "testing\n",
      "DT accuracy  0.2646038943718325\n",
      "Randomforest accuracy  0.33182181915177383\n"
     ]
    },
    {
     "name": "stderr",
     "output_type": "stream",
     "text": [
      "/home/alphaq2/.local/lib/python3.6/site-packages/sklearn/svm/_base.py:977: ConvergenceWarning: Liblinear failed to converge, increase the number of iterations.\n",
      "  \"the number of iterations.\", ConvergenceWarning)\n"
     ]
    },
    {
     "name": "stdout",
     "output_type": "stream",
     "text": [
      "Linear SVC accuracy  0.3352894105094692\n",
      "Adaboost accuracy  0.3102160576153641\n",
      "XGBoost accuracy  0.3283542277940784\n",
      "logistic accuracy  0.34035742864763935\n",
      "Svm accuracy  0.34702587356628434\n",
      "MLP accuracy  0.2867431315017338\n"
     ]
    },
    {
     "name": "stderr",
     "output_type": "stream",
     "text": [
      "/home/alphaq2/.local/lib/python3.6/site-packages/sklearn/neural_network/_multilayer_perceptron.py:585: ConvergenceWarning: Stochastic Optimizer: Maximum iterations (200) reached and the optimization hasn't converged yet.\n",
      "  % self.max_iter, ConvergenceWarning)\n"
     ]
    }
   ],
   "source": [
    "#using all the modalities with text - ngram wiht pca\n",
    "y_train1 = pd.read_csv(\"/home/alphaq2/Desktop/COURSE_PROJECT/ML_PROJECT/train/train_onehot.csv\")\n",
    "csv_x = np.load(\"train/train_csv/train_X.npy\")\n",
    "csv_y = np.load(\"train/train_csv/train_Y.npy\")\n",
    "y_train1 = np.array(y_train1[\"AdoptionSpeed\"])\n",
    "\n",
    "img_x = pd.read_csv(\"train_img_features_VGG16.csv\")\n",
    "img_x = img_x.drop([\"AdoptionSpeed\"],axis = 1)\n",
    "# print(img_x.head())\n",
    "img_x = img_x.to_numpy()[:, 1:]\n",
    "pca = PCA(n_components = 0.97)\n",
    "test_features = feat_[len(train_text):]\n",
    "train_features = feat_[:len(train_text)]\n",
    "y_train = pd.read_csv(\"/home/alphaq2/Desktop/COURSE_PROJECT/ML_PROJECT/train/train_onehot.csv\")\n",
    "y_train = np.array(y_train[\"AdoptionSpeed\"])\n",
    "elite_x = pca.fit_transform(np.concatenate((csv_x,train_features),axis = 1))\n",
    "elite_x = np.concatenate((elite_x,img_x),axis = 1)\n",
    "x_train, x_test, y_train, y_test = train_test_split(elite_x, y_train1, test_size=0.25, random_state=0)\n",
    "scaler = StandardScaler()\n",
    "x_train = scaler.fit_transform(x_train)\n",
    "x_test = scaler.fit_transform(x_test)\n",
    "print(x_train.shape)\n",
    "print(\"testing\")\n",
    "test_models(x_train,y_train,x_test,y_test)"
   ]
  },
  {
   "cell_type": "code",
   "execution_count": null,
   "metadata": {},
   "outputs": [
    {
     "name": "stdout",
     "output_type": "stream",
     "text": [
      "(11244, 129)\n",
      "testing\n",
      "DT accuracy  0.2547345958922379\n",
      "Randomforest accuracy  0.3371565750866898\n"
     ]
    }
   ],
   "source": [
    "#using all the modalities with text - ngram pca\n",
    "y_train1 = pd.read_csv(\"/home/alphaq2/Desktop/COURSE_PROJECT/ML_PROJECT/train/train_onehot.csv\")\n",
    "csv_x = np.load(\"train/train_csv/train_X.npy\")\n",
    "csv_y = np.load(\"train/train_csv/train_Y.npy\")\n",
    "y_train1 = np.array(y_train1[\"AdoptionSpeed\"])\n",
    "\n",
    "img_x = pd.read_csv(\"train_img_features_VGG16.csv\")\n",
    "img_x = img_x.drop([\"AdoptionSpeed\"],axis = 1)\n",
    "# print(img_x.head())\n",
    "img_x = img_x.to_numpy()[:, 1:]\n",
    "pca = PCA(n_components = 0.99)\n",
    "test_features = feat_[len(train_text):]\n",
    "train_features = feat_[:len(train_text)]\n",
    "y_train = pd.read_csv(\"/home/alphaq2/Desktop/COURSE_PROJECT/ML_PROJECT/train/train_onehot.csv\")\n",
    "y_train = np.array(y_train[\"AdoptionSpeed\"])\n",
    "elite_x = pca.fit_transform(np.concatenate((csv_x,train_features),axis = 1))\n",
    "elite_x = np.concatenate((elite_x,img_x),axis = 1)\n",
    "x_train, x_test, y_train, y_test = train_test_split(elite_x, y_train1, test_size=0.25, random_state=0)\n",
    "scaler = StandardScaler()\n",
    "x_train = scaler.fit_transform(x_train)\n",
    "x_test = scaler.fit_transform(x_test)\n",
    "print(x_train.shape)\n",
    "print(\"testing\")\n",
    "test_models(x_train,y_train,x_test,y_test)"
   ]
  },
  {
   "cell_type": "code",
   "execution_count": null,
   "metadata": {},
   "outputs": [
    {
     "name": "stdout",
     "output_type": "stream",
     "text": [
      "(11244, 4918)\n",
      "testing\n",
      "DT accuracy  0.279807948786343\n",
      "Randomforest accuracy  0.34702587356628434\n"
     ]
    }
   ],
   "source": [
    "#using all the modalities with text - ngram pca\n",
    "y_train1 = pd.read_csv(\"/home/alphaq2/Desktop/COURSE_PROJECT/ML_PROJECT/train/train_onehot.csv\")\n",
    "csv_x = np.load(\"train/train_csv/train_X.npy\")\n",
    "csv_y = np.load(\"train/train_csv/train_Y.npy\")\n",
    "y_train1 = np.array(y_train1[\"AdoptionSpeed\"])\n",
    "\n",
    "img_x = pd.read_csv(\"train_img_features_VGG16.csv\")\n",
    "img_x = img_x.drop([\"AdoptionSpeed\"],axis = 1)\n",
    "# print(img_x.head())\n",
    "img_x = img_x.to_numpy()[:, 1:]\n",
    "test_features = feat_[len(train_text):]\n",
    "train_features = feat_[:len(train_text)]\n",
    "y_train = pd.read_csv(\"/home/alphaq2/Desktop/COURSE_PROJECT/ML_PROJECT/train/train_onehot.csv\")\n",
    "y_train = np.array(y_train[\"AdoptionSpeed\"])\n",
    "elite_x = np.concatenate((img_x,csv_x,train_features),axis = 1)\n",
    "x_train, x_test, y_train, y_test = train_test_split(elite_x, y_train1, test_size=0.25, random_state=0)\n",
    "scaler = StandardScaler()\n",
    "x_train = scaler.fit_transform(x_train)\n",
    "x_test = scaler.fit_transform(x_test)\n",
    "print(x_train.shape)\n",
    "print(\"testing\")\n",
    "test_models(x_train,y_train,x_test,y_test)"
   ]
  },
  {
   "cell_type": "code",
   "execution_count": 16,
   "metadata": {
    "scrolled": true
   },
   "outputs": [
    {
     "name": "stdout",
     "output_type": "stream",
     "text": [
      "Svm accuracy  0.36863163510269403\n",
      "DT accuracy  0.2534009069085089\n",
      "MLP accuracy  0.3590290744198453\n"
     ]
    },
    {
     "data": {
      "text/plain": [
       "(array([2, 2, 1, ..., 4, 1, 4]), array([4, 4, 4, ..., 1, 4, 4]))"
      ]
     },
     "execution_count": 16,
     "metadata": {},
     "output_type": "execute_result"
    }
   ],
   "source": [
    "#using all the modalities with text - ngram \n",
    "svmModel(x_train,y_train,x_test,y_test)\n",
    "decisionTreeModel(x_train,y_train,x_test,y_test)\n",
    "mlpModel(x_train,y_train,x_test,y_test)\n"
   ]
  },
  {
   "cell_type": "code",
   "execution_count": 18,
   "metadata": {},
   "outputs": [
    {
     "name": "stdout",
     "output_type": "stream",
     "text": [
      "Svm accuracy  0.29634569218458257\n",
      "DT accuracy  0.29154441184315816\n",
      "MLP accuracy  0.3147506001600427\n"
     ]
    },
    {
     "data": {
      "text/plain": [
       "(array([3, 3, 4, ..., 4, 3, 3]), array([4, 4, 4, ..., 1, 4, 4]))"
      ]
     },
     "execution_count": 18,
     "metadata": {},
     "output_type": "execute_result"
    }
   ],
   "source": [
    "#using all the modalities with text\n",
    "y_train = pd.read_csv(\"/home/alphaq2/Desktop/COURSE_PROJECT/ML_PROJECT/train/train_onehot.csv\")\n",
    "# print(y_train)\n",
    "y_train = np.array(y_train[\"AdoptionSpeed\"])\n",
    "x_train, x_test, y_train, y_test = train_test_split(train_features, y_train, test_size=0.25, random_state=0)\n",
    "svmModel(x_train,y_train,x_test,y_test)\n",
    "decisionTreeModel(x_train,y_train,x_test,y_test)\n",
    "mlpModel(x_train,y_train,x_test,y_test)"
   ]
  },
  {
   "cell_type": "code",
   "execution_count": 19,
   "metadata": {},
   "outputs": [],
   "source": [
    "# acc = accuracy_score(y_test, y_pred)\n",
    "y_train1 = pd.read_csv(\"/home/alphaq2/Desktop/COURSE_PROJECT/ML_PROJECT/train/train_onehot.csv\")\n",
    "# print(acc)"
   ]
  },
  {
   "cell_type": "code",
   "execution_count": 14,
   "metadata": {},
   "outputs": [
    {
     "name": "stdout",
     "output_type": "stream",
     "text": [
      "(14993, 4918)\n"
     ]
    }
   ],
   "source": [
    "#using all the modalities with text - ngram\n",
    "y_train1 = pd.read_csv(\"/home/alphaq2/Desktop/COURSE_PROJECT/ML_PROJECT/train/train_onehot.csv\")\n",
    "csv_x = np.load(\"train/train_csv/train_X.npy\")\n",
    "csv_y = np.load(\"train/train_csv/train_Y.npy\")\n",
    "y_train1 = np.array(y_train1[\"AdoptionSpeed\"])\n",
    "\n",
    "img_x = pd.read_csv(\"train_img_features_VGG16.csv\")\n",
    "img_x = img_x.drop([\"AdoptionSpeed\"],axis = 1)\n",
    "# print(img_x.head())\n",
    "img_x = img_x.to_numpy()[:, 1:]\n",
    "elite_x = np.concatenate((train_features,img_x,csv_x),axis = 1)\n",
    "# elite_x = train_data\n",
    "print(elite_x.shape)\n",
    "y_train1 = pd.read_csv(\"/home/alphaq2/Desktop/COURSE_PROJECT/ML_PROJECT/train/train_onehot.csv\")\n",
    "y_train1 = np.array(y_train1[\"AdoptionSpeed\"])"
   ]
  },
  {
   "cell_type": "code",
   "execution_count": 18,
   "metadata": {},
   "outputs": [
    {
     "name": "stderr",
     "output_type": "stream",
     "text": [
      "100%|██████████| 14993/14993 [09:16<00:00, 26.92it/s]\n"
     ]
    },
    {
     "data": {
      "image/png": "[encoded data removed]",
      "text/plain": [
       "<Figure size 720x360 with 1 Axes>"
      ]
     },
     "metadata": {
      "needs_background": "light"
     },
     "output_type": "display_data"
    }
   ],
   "source": [
    "#TSNE plot\n",
    "from sklearn.manifold import TSNE\n",
    "import h5py\n",
    "import numpy as np\n",
    "from tqdm import tqdm\n",
    "from sklearn.model_selection import StratifiedShuffleSplit\n",
    "import matplotlib.pyplot as plt  \n",
    "from sklearn.decomposition import PCA\n",
    "from sklearn.linear_model import LogisticRegression\n",
    "import matplotlib.patches as mpatches\n",
    "from sklearn.manifold import TSNE\n",
    "from sklearn.metrics import accuracy_score\n",
    "from sklearn.preprocessing import StandardScaler\n",
    "from sklearn.decomposition import TruncatedSVD\n",
    "tsne = TSNE(n_components=2 ,random_state=0)\n",
    "X_2d = tsne.fit_transform(elite_x)\n",
    "\n",
    "#plotting all classes\n",
    "plt.figure(figsize=(10, 5))\n",
    "colors = ['r', 'g', 'b', 'c', 'm']\n",
    "handles_1 = []\n",
    "for i in range(5):\n",
    "    handles_1.append(mpatches.Patch(color = colors[i],label = str(i)))\n",
    "for i in tqdm(range(X_2d.shape[0])):\n",
    "    plt.scatter(X_2d[i][0],X_2d[i][1], c=colors[int(y_train1[i])])\n",
    "plt.legend(handles = handles_1)\n",
    "plt.title(\"TSNE visualization\")\n",
    "plt.show()"
   ]
  },
  {
   "cell_type": "code",
   "execution_count": 7,
   "metadata": {},
   "outputs": [
    {
     "name": "stdout",
     "output_type": "stream",
     "text": [
      "1231231\n"
     ]
    },
    {
     "ename": "NameError",
     "evalue": "name 'elite_x' is not defined",
     "output_type": "error",
     "traceback": [
      "\u001b[0;31m---------------------------------------------------------------------------\u001b[0m",
      "\u001b[0;31mNameError\u001b[0m                                 Traceback (most recent call last)",
      "\u001b[0;32m<ipython-input-7-8dad326fab81>\u001b[0m in \u001b[0;36m<module>\u001b[0;34m\u001b[0m\n\u001b[1;32m      1\u001b[0m \u001b[0mprint\u001b[0m\u001b[0;34m(\u001b[0m\u001b[0;34m\"1231231\"\u001b[0m\u001b[0;34m)\u001b[0m\u001b[0;34m\u001b[0m\u001b[0;34m\u001b[0m\u001b[0m\n\u001b[1;32m      2\u001b[0m \u001b[0msss\u001b[0m \u001b[0;34m=\u001b[0m \u001b[0mStratifiedShuffleSplit\u001b[0m\u001b[0;34m(\u001b[0m\u001b[0mn_splits\u001b[0m\u001b[0;34m=\u001b[0m\u001b[0;36m1\u001b[0m\u001b[0;34m,\u001b[0m \u001b[0mtest_size\u001b[0m\u001b[0;34m=\u001b[0m\u001b[0;36m0.2\u001b[0m\u001b[0;34m,\u001b[0m \u001b[0mrandom_state\u001b[0m\u001b[0;34m=\u001b[0m\u001b[0;36m0\u001b[0m\u001b[0;34m)\u001b[0m\u001b[0;34m\u001b[0m\u001b[0;34m\u001b[0m\u001b[0m\n\u001b[0;32m----> 3\u001b[0;31m \u001b[0;32mfor\u001b[0m \u001b[0mtrain_index\u001b[0m\u001b[0;34m,\u001b[0m \u001b[0mtest_index\u001b[0m \u001b[0;32min\u001b[0m \u001b[0msss\u001b[0m\u001b[0;34m.\u001b[0m\u001b[0msplit\u001b[0m\u001b[0;34m(\u001b[0m\u001b[0melite_x\u001b[0m\u001b[0;34m,\u001b[0m \u001b[0my_train1\u001b[0m\u001b[0;34m)\u001b[0m\u001b[0;34m:\u001b[0m\u001b[0;34m\u001b[0m\u001b[0;34m\u001b[0m\u001b[0m\n\u001b[0m\u001b[1;32m      4\u001b[0m     \u001b[0mx_train\u001b[0m\u001b[0;34m,\u001b[0m \u001b[0mx_test\u001b[0m \u001b[0;34m=\u001b[0m \u001b[0melite_x\u001b[0m\u001b[0;34m[\u001b[0m\u001b[0mtrain_index\u001b[0m\u001b[0;34m]\u001b[0m\u001b[0;34m,\u001b[0m \u001b[0melite_x\u001b[0m\u001b[0;34m[\u001b[0m\u001b[0mtest_index\u001b[0m\u001b[0;34m]\u001b[0m\u001b[0;34m\u001b[0m\u001b[0;34m\u001b[0m\u001b[0m\n\u001b[1;32m      5\u001b[0m     \u001b[0my_train\u001b[0m\u001b[0;34m,\u001b[0m \u001b[0my_test\u001b[0m \u001b[0;34m=\u001b[0m \u001b[0my_train1\u001b[0m\u001b[0;34m[\u001b[0m\u001b[0mtrain_index\u001b[0m\u001b[0;34m]\u001b[0m\u001b[0;34m,\u001b[0m \u001b[0my_train1\u001b[0m\u001b[0;34m[\u001b[0m\u001b[0mtest_index\u001b[0m\u001b[0;34m]\u001b[0m\u001b[0;34m\u001b[0m\u001b[0;34m\u001b[0m\u001b[0m\n",
      "\u001b[0;31mNameError\u001b[0m: name 'elite_x' is not defined"
     ]
    }
   ],
   "source": [
    "\n",
    "#stratified sampling\n",
    "sss = StratifiedShuffleSplit(n_splits=1, test_size=0.2, random_state=0)\n",
    "for train_index, test_index in sss.split(elite_x, y_train1):\n",
    "    x_train, x_test = elite_x[train_index], elite_x[test_index]\n",
    "    y_train, y_test = y_train1[train_index], y_train1[test_index]\n",
    "scaler = MinMaxScaler()\n",
    "x_train = scaler.fit_transform(x_train)\n",
    "x_test = scaler.fit_transform(x_test)\n",
    "svmModel(x_train,y_train,x_test,y_test)\n",
    "decisionTreeModel(x_train,y_train,x_test,y_test)\n",
    "mlpModel(x_train,y_train,x_test,y_test)"
   ]
  },
  {
   "cell_type": "code",
   "execution_count": null,
   "metadata": {},
   "outputs": [],
   "source": [
    "#stratified sampling\n",
    "sss = StratifiedShuffleSplit(n_splits=1, test_size=0.2, random_state=0)\n",
    "for train_index, test_index in sss.split(elite_x, y_train1):\n",
    "    x_train, x_test = elite_x[train_index], elite_x[test_index]\n",
    "    y_train, y_test = y_train1[train_index], y_train1[test_index]\n",
    "scaler = MinMaxScaler()\n",
    "x_train = scaler.fit_transform(x_train)\n",
    "x_test = scaler.fit_transform(x_test)\n",
    "svmModel(C = 0.7,x_train,y_train,x_test,y_test)"
   ]
  },
  {
   "cell_type": "code",
   "execution_count": null,
   "metadata": {},
   "outputs": [],
   "source": [
    "elite_x = np.concatenate((train_features,img_x,csv_x),axis = 1)\n",
    "#running all the models\n",
    "\n",
    "print(elite_x.shape)\n",
    "y_train1 = pd.read_csv(\"/home/alphaq2/Desktop/COURSE_PROJECT/ML_PROJECT/train/train_onehot.csv\")\n",
    "y_train1 = np.array(y_train1[\"AdoptionSpeed\"])\n",
    "sss = StratifiedShuffleSplit(n_splits=1, test_size=0.2, random_state=0)\n",
    "for train_index, test_index in sss.split(elite_x, y_train1):\n",
    "    x_train, x_test = elite_x[train_index], elite_x[test_index]\n",
    "    y_train, y_test = y_train1[train_index], y_train1[test_index]\n",
    "RandomForest(x_train,y_train,x_test,y_test)\n",
    "DecisionTree(x_train,y_train,x_test,y_test)"
   ]
  },
  {
   "cell_type": "code",
   "execution_count": null,
   "metadata": {},
   "outputs": [],
   "source": [
    "elite_x = np.concatenate((train_features,csv_x),axis = 1)\n",
    "#running all the models\n",
    "\n",
    "print(elite_x.shape)\n",
    "y_train1 = pd.read_csv(\"/home/alphaq2/Desktop/COURSE_PROJECT/ML_PROJECT/train/train_onehot.csv\")\n",
    "y_train1 = np.array(y_train1[\"AdoptionSpeed\"])\n",
    "sss = StratifiedShuffleSplit(n_splits=1, test_size=0.2, random_state=0)\n",
    "for train_index, test_index in sss.split(elite_x, y_train1):\n",
    "    x_train, x_test = elite_x[train_index], elite_x[test_index]\n",
    "    y_train, y_test = y_train1[train_index], y_train1[test_index]\n",
    "logistic(x_train,y_train,x_test,y_test)"
   ]
  },
  {
   "cell_type": "code",
   "execution_count": null,
   "metadata": {},
   "outputs": [],
   "source": [
    "elite_x = np.concatenate((img_x,csv_x),axis = 1)\n",
    "#running logistic regression\n",
    "\n",
    "print(elite_x.shape)\n",
    "y_train1 = pd.read_csv(\"/home/alphaq2/Desktop/COURSE_PROJECT/ML_PROJECT/train/train_onehot.csv\")\n",
    "y_train1 = np.array(y_train1[\"AdoptionSpeed\"])\n",
    "sss = StratifiedShuffleSplit(n_splits=1, test_size=0.2, random_state=0)\n",
    "for train_index, test_index in sss.split(elite_x, y_train1):\n",
    "    x_train, x_test = elite_x[train_index], elite_x[test_index]\n",
    "    y_train, y_test = y_train1[train_index], y_train1[test_index]\n",
    "logistic(x_train,y_train,x_test,y_test)"
   ]
  },
  {
   "cell_type": "code",
   "execution_count": null,
   "metadata": {},
   "outputs": [],
   "source": [
    "elite_x = np.concatenate((train_features,img_x),axis = 1)\n",
    "#running logistic regression\n",
    "\n",
    "print(elite_x.shape)\n",
    "y_train1 = pd.read_csv(\"/home/alphaq2/Desktop/COURSE_PROJECT/ML_PROJECT/train/train_onehot.csv\")\n",
    "y_train1 = np.array(y_train1[\"AdoptionSpeed\"])\n",
    "sss = StratifiedShuffleSplit(n_splits=1, test_size=0.2, random_state=0)\n",
    "for train_index, test_index in sss.split(elite_x, y_train1):\n",
    "    x_train, x_test = elite_x[train_index], elite_x[test_index]\n",
    "    y_train, y_test = y_train1[train_index], y_train1[test_index]\n",
    "logistic(x_train,y_train,x_test,y_test)"
   ]
  },
  {
   "cell_type": "code",
   "execution_count": null,
   "metadata": {},
   "outputs": [],
   "source": [
    "elite_x = train_features\n",
    "#running logistic regression\n",
    "\n",
    "print(elite_x.shape)\n",
    "y_train1 = pd.read_csv(\"/home/alphaq2/Desktop/COURSE_PROJECT/ML_PROJECT/train/train_onehot.csv\")\n",
    "y_train1 = np.array(y_train1[\"AdoptionSpeed\"])\n",
    "sss = StratifiedShuffleSplit(n_splits=1, test_size=0.2, random_state=0)\n",
    "for train_index, test_index in sss.split(elite_x, y_train1):\n",
    "    x_train, x_test = elite_x[train_index], elite_x[test_index]\n",
    "    y_train, y_test = y_train1[train_index], y_train1[test_index]\n",
    "logistic(x_train,y_train,x_test,y_test)"
   ]
  },
  {
   "cell_type": "code",
   "execution_count": null,
   "metadata": {},
   "outputs": [],
   "source": [
    "elite_x = img_x\n",
    "#running logistic regression\n",
    "\n",
    "print(elite_x.shape)\n",
    "y_train1 = pd.read_csv(\"/home/alphaq2/Desktop/COURSE_PROJECT/ML_PROJECT/train/train_onehot.csv\")\n",
    "y_train1 = np.array(y_train1[\"AdoptionSpeed\"])\n",
    "sss = StratifiedShuffleSplit(n_splits=1, test_size=0.2, random_state=0)\n",
    "for train_index, test_index in sss.split(elite_x, y_train1):\n",
    "    x_train, x_test = elite_x[train_index], elite_x[test_index]\n",
    "    y_train, y_test = y_train1[train_index], y_train1[test_index]\n",
    "logistic(x_train,y_train,x_test,y_test)"
   ]
  },
  {
   "cell_type": "code",
   "execution_count": null,
   "metadata": {},
   "outputs": [],
   "source": [
    "elite_x = csv_x\n",
    "#running logistic regression\n",
    "\n",
    "print(elite_x.shape)\n",
    "y_train1 = pd.read_csv(\"/home/alphaq2/Desktop/COURSE_PROJECT/ML_PROJECT/train/train_onehot.csv\")\n",
    "y_train1 = np.array(y_train1[\"AdoptionSpeed\"])\n",
    "sss = StratifiedShuffleSplit(n_splits=1, test_size=0.2, random_state=0)\n",
    "for train_index, test_index in sss.split(elite_x, y_train1):\n",
    "    x_train, x_test = elite_x[train_index], elite_x[test_index]\n",
    "    y_train, y_test = y_train1[train_index], y_train1[test_index]\n",
    "logistic(x_train,y_train,x_test,y_test)"
   ]
  },
  {
   "cell_type": "code",
   "execution_count": 24,
   "metadata": {},
   "outputs": [
    {
     "name": "stdout",
     "output_type": "stream",
     "text": [
      "0.3579621232328621\n"
     ]
    }
   ],
   "source": [
    "#running logistic regression\n",
    "logisticRegr = LogisticRegression(max_iter = 20000)\n",
    "logisticRegr.fit(x_train,y_train)\n",
    "pred = logisticRegr.predict(x_test)\n",
    "print(accuracy_score(pred,y_test))"
   ]
  },
  {
   "cell_type": "code",
   "execution_count": 25,
   "metadata": {},
   "outputs": [
    {
     "name": "stdout",
     "output_type": "stream",
     "text": [
      "(14993, 5046)\n"
     ]
    }
   ],
   "source": [
    "elite_x = np.concatenate((csv_x,train_features,img_x),axis = 1)\n",
    "print(elite_x.shape)\n",
    "y_train1 = pd.read_csv(\"/home/alphaq2/Desktop/COURSE_PROJECT/ML_PROJECT/train/train_onehot.csv\")\n",
    "y_train1 = np.array(y_train1[\"AdoptionSpeed\"])"
   ]
  },
  {
   "cell_type": "code",
   "execution_count": 26,
   "metadata": {},
   "outputs": [
    {
     "name": "stdout",
     "output_type": "stream",
     "text": [
      "Svm accuracy  0.29634569218458257\n",
      "DT accuracy  0.2875433448919712\n",
      "MLP accuracy  0.2854094425180048\n"
     ]
    },
    {
     "data": {
      "text/plain": [
       "(array([1, 1, 1, ..., 1, 1, 4]), array([4, 4, 4, ..., 1, 4, 4]))"
      ]
     },
     "execution_count": 26,
     "metadata": {},
     "output_type": "execute_result"
    }
   ],
   "source": [
    "x_train, x_test, y_train, y_test = train_test_split(elite_x, y_train1, test_size=0.25, random_state=0)\n",
    "svmModel(x_train,y_train,x_test,y_test)\n",
    "decisionTreeModel(x_train,y_train,x_test,y_test)\n",
    "mlpModel(x_train,y_train,x_test,y_test)\n",
    "#training on total data"
   ]
  },
  {
   "cell_type": "code",
   "execution_count": 27,
   "metadata": {},
   "outputs": [
    {
     "name": "stdout",
     "output_type": "stream",
     "text": [
      "Svm accuracy  0.291736143533649\n",
      "DT accuracy  1.0\n",
      "MLP accuracy  0.5234442739945308\n"
     ]
    },
    {
     "data": {
      "text/plain": [
       "(array([1, 1, 3, ..., 1, 1, 3]), array([2, 0, 3, ..., 3, 4, 3]))"
      ]
     },
     "execution_count": 27,
     "metadata": {},
     "output_type": "execute_result"
    }
   ],
   "source": [
    "svmModel(elite_x,y_train1,elite_x,y_train1)\n",
    "decisionTreeModel(elite_x,y_train1,elite_x,y_train1)\n",
    "mlpModel(elite_x,y_train1,elite_x,y_train1)\n",
    "#training on train data"
   ]
  },
  {
   "cell_type": "code",
   "execution_count": 28,
   "metadata": {},
   "outputs": [
    {
     "name": "stdout",
     "output_type": "stream",
     "text": [
      "Svm accuracy  0.5584606149536451\n",
      "DT accuracy  1.0\n"
     ]
    },
    {
     "name": "stderr",
     "output_type": "stream",
     "text": [
      "/home/alphaq2/.local/lib/python3.6/site-packages/sklearn/neural_network/_multilayer_perceptron.py:585: ConvergenceWarning: Stochastic Optimizer: Maximum iterations (200) reached and the optimization hasn't converged yet.\n",
      "  % self.max_iter, ConvergenceWarning)\n"
     ]
    },
    {
     "name": "stdout",
     "output_type": "stream",
     "text": [
      "MLP accuracy  0.9747882345094377\n"
     ]
    },
    {
     "data": {
      "text/plain": [
       "(array([2, 0, 3, ..., 3, 4, 3]), array([2, 0, 3, ..., 3, 4, 3]))"
      ]
     },
     "execution_count": 28,
     "metadata": {},
     "output_type": "execute_result"
    }
   ],
   "source": [
    "scaler = MinMaxScaler()\n",
    "elite_x = scaler.fit_transform(elite_x)\n",
    "svmModel(elite_x,y_train1,elite_x,y_train1)\n",
    "decisionTreeModel(elite_x,y_train1,elite_x,y_train1)\n",
    "mlpModel(elite_x,y_train1,elite_x,y_train1)\n",
    "#training and testing on train data"
   ]
  },
  {
   "cell_type": "code",
   "execution_count": null,
   "metadata": {},
   "outputs": [],
   "source": []
  }
 ],
 "metadata": {
  "kernelspec": {
   "display_name": "Python 3",
   "language": "python",
   "name": "python3"
  },
  "language_info": {
   "codemirror_mode": {
    "name": "ipython",
    "version": 3
   },
   "file_extension": ".py",
   "mimetype": "text/x-python",
   "name": "python",
   "nbconvert_exporter": "python",
   "pygments_lexer": "ipython3",
   "version": "3.6.9"
  }
 },
 "nbformat": 4,
 "nbformat_minor": 4
}
