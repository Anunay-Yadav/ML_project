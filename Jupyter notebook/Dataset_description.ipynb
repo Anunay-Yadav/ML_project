{
 "cells": [
  {
   "cell_type": "code",
   "execution_count": 2,
   "metadata": {
    "_cell_guid": "b1076dfc-b9ad-4769-8c92-a6c4dae69d19",
    "_uuid": "8f2839f25d086af736a60e9eeb907d3b93b6e0e5"
   },
   "outputs": [],
   "source": [
    "#modules\n",
    "import numpy as np # linear algebra\n",
    "import pandas as pd # data processing, CSV file I/O (e.g. pd.read_csv)\n",
    "from sklearn.linear_model import LogisticRegression\n",
    "import seaborn as sns\n",
    "import numpy as np\n",
    "from tqdm import tqdm\n",
    "import matplotlib.pyplot as plt\n",
    "import sweetviz as sv"
   ]
  },
  {
   "cell_type": "code",
   "execution_count": 4,
   "metadata": {},
   "outputs": [
    {
     "name": "stdout",
     "output_type": "stream",
     "text": [
      "(14993, 128)\n"
     ]
    }
   ],
   "source": [
    "#image data\n",
    "img_x = pd.read_csv(\"train_img_features_VGG16.csv\")\n",
    "img_x = img_x.drop([\"AdoptionSpeed\"],axis = 1)\n",
    "img_x = img_x.to_numpy()[:, 1:]\n",
    "print(img_x.shape)"
   ]
  },
  {
   "cell_type": "code",
   "execution_count": 3,
   "metadata": {
    "_cell_guid": "79c7e3d0-c299-4dcb-8224-4455121ee9b0",
    "_uuid": "d629ff2d2480ee46fbb7e2d37f6b5fab8052498a"
   },
   "outputs": [],
   "source": [
    "os = \"/home/alphaq2/Desktop/ML_PROJECT\"\n",
    "data = pd.read_csv(os + \"/train/train.csv\") "
   ]
  },
  {
   "cell_type": "code",
   "execution_count": 4,
   "metadata": {},
   "outputs": [
    {
     "data": {
      "text/html": [
       "<div>\n",
       "<style scoped>\n",
       "    .dataframe tbody tr th:only-of-type {\n",
       "        vertical-align: middle;\n",
       "    }\n",
       "\n",
       "    .dataframe tbody tr th {\n",
       "        vertical-align: top;\n",
       "    }\n",
       "\n",
       "    .dataframe thead th {\n",
       "        text-align: right;\n",
       "    }\n",
       "</style>\n",
       "<table border=\"1\" class=\"dataframe\">\n",
       "  <thead>\n",
       "    <tr style=\"text-align: right;\">\n",
       "      <th></th>\n",
       "      <th>Type</th>\n",
       "      <th>Age</th>\n",
       "      <th>Breed1</th>\n",
       "      <th>Breed2</th>\n",
       "      <th>Gender</th>\n",
       "      <th>Color1</th>\n",
       "      <th>Color2</th>\n",
       "      <th>Color3</th>\n",
       "      <th>MaturitySize</th>\n",
       "      <th>FurLength</th>\n",
       "      <th>Vaccinated</th>\n",
       "      <th>Dewormed</th>\n",
       "      <th>Sterilized</th>\n",
       "      <th>Health</th>\n",
       "      <th>Quantity</th>\n",
       "      <th>Fee</th>\n",
       "      <th>State</th>\n",
       "      <th>VideoAmt</th>\n",
       "      <th>PhotoAmt</th>\n",
       "      <th>AdoptionSpeed</th>\n",
       "    </tr>\n",
       "  </thead>\n",
       "  <tbody>\n",
       "    <tr>\n",
       "      <th>count</th>\n",
       "      <td>14993.000000</td>\n",
       "      <td>14993.000000</td>\n",
       "      <td>14993.000000</td>\n",
       "      <td>14993.000000</td>\n",
       "      <td>14993.000000</td>\n",
       "      <td>14993.000000</td>\n",
       "      <td>14993.000000</td>\n",
       "      <td>14993.000000</td>\n",
       "      <td>14993.000000</td>\n",
       "      <td>14993.000000</td>\n",
       "      <td>14993.000000</td>\n",
       "      <td>14993.000000</td>\n",
       "      <td>14993.000000</td>\n",
       "      <td>14993.000000</td>\n",
       "      <td>14993.000000</td>\n",
       "      <td>14993.000000</td>\n",
       "      <td>14993.000000</td>\n",
       "      <td>14993.000000</td>\n",
       "      <td>14993.000000</td>\n",
       "      <td>14993.000000</td>\n",
       "    </tr>\n",
       "    <tr>\n",
       "      <th>mean</th>\n",
       "      <td>1.457614</td>\n",
       "      <td>10.452078</td>\n",
       "      <td>265.272594</td>\n",
       "      <td>74.009738</td>\n",
       "      <td>1.776162</td>\n",
       "      <td>2.234176</td>\n",
       "      <td>3.222837</td>\n",
       "      <td>1.882012</td>\n",
       "      <td>1.862002</td>\n",
       "      <td>1.467485</td>\n",
       "      <td>1.731208</td>\n",
       "      <td>1.558727</td>\n",
       "      <td>1.914227</td>\n",
       "      <td>1.036617</td>\n",
       "      <td>1.576069</td>\n",
       "      <td>21.259988</td>\n",
       "      <td>41346.028347</td>\n",
       "      <td>0.056760</td>\n",
       "      <td>3.889215</td>\n",
       "      <td>2.516441</td>\n",
       "    </tr>\n",
       "    <tr>\n",
       "      <th>std</th>\n",
       "      <td>0.498217</td>\n",
       "      <td>18.155790</td>\n",
       "      <td>60.056818</td>\n",
       "      <td>123.011575</td>\n",
       "      <td>0.681592</td>\n",
       "      <td>1.745225</td>\n",
       "      <td>2.742562</td>\n",
       "      <td>2.984086</td>\n",
       "      <td>0.547959</td>\n",
       "      <td>0.599070</td>\n",
       "      <td>0.667649</td>\n",
       "      <td>0.695817</td>\n",
       "      <td>0.566172</td>\n",
       "      <td>0.199535</td>\n",
       "      <td>1.472477</td>\n",
       "      <td>78.414548</td>\n",
       "      <td>32.444153</td>\n",
       "      <td>0.346185</td>\n",
       "      <td>3.487810</td>\n",
       "      <td>1.177265</td>\n",
       "    </tr>\n",
       "    <tr>\n",
       "      <th>min</th>\n",
       "      <td>1.000000</td>\n",
       "      <td>0.000000</td>\n",
       "      <td>0.000000</td>\n",
       "      <td>0.000000</td>\n",
       "      <td>1.000000</td>\n",
       "      <td>1.000000</td>\n",
       "      <td>0.000000</td>\n",
       "      <td>0.000000</td>\n",
       "      <td>1.000000</td>\n",
       "      <td>1.000000</td>\n",
       "      <td>1.000000</td>\n",
       "      <td>1.000000</td>\n",
       "      <td>1.000000</td>\n",
       "      <td>1.000000</td>\n",
       "      <td>1.000000</td>\n",
       "      <td>0.000000</td>\n",
       "      <td>41324.000000</td>\n",
       "      <td>0.000000</td>\n",
       "      <td>0.000000</td>\n",
       "      <td>0.000000</td>\n",
       "    </tr>\n",
       "    <tr>\n",
       "      <th>25%</th>\n",
       "      <td>1.000000</td>\n",
       "      <td>2.000000</td>\n",
       "      <td>265.000000</td>\n",
       "      <td>0.000000</td>\n",
       "      <td>1.000000</td>\n",
       "      <td>1.000000</td>\n",
       "      <td>0.000000</td>\n",
       "      <td>0.000000</td>\n",
       "      <td>2.000000</td>\n",
       "      <td>1.000000</td>\n",
       "      <td>1.000000</td>\n",
       "      <td>1.000000</td>\n",
       "      <td>2.000000</td>\n",
       "      <td>1.000000</td>\n",
       "      <td>1.000000</td>\n",
       "      <td>0.000000</td>\n",
       "      <td>41326.000000</td>\n",
       "      <td>0.000000</td>\n",
       "      <td>2.000000</td>\n",
       "      <td>2.000000</td>\n",
       "    </tr>\n",
       "    <tr>\n",
       "      <th>50%</th>\n",
       "      <td>1.000000</td>\n",
       "      <td>3.000000</td>\n",
       "      <td>266.000000</td>\n",
       "      <td>0.000000</td>\n",
       "      <td>2.000000</td>\n",
       "      <td>2.000000</td>\n",
       "      <td>2.000000</td>\n",
       "      <td>0.000000</td>\n",
       "      <td>2.000000</td>\n",
       "      <td>1.000000</td>\n",
       "      <td>2.000000</td>\n",
       "      <td>1.000000</td>\n",
       "      <td>2.000000</td>\n",
       "      <td>1.000000</td>\n",
       "      <td>1.000000</td>\n",
       "      <td>0.000000</td>\n",
       "      <td>41326.000000</td>\n",
       "      <td>0.000000</td>\n",
       "      <td>3.000000</td>\n",
       "      <td>2.000000</td>\n",
       "    </tr>\n",
       "    <tr>\n",
       "      <th>75%</th>\n",
       "      <td>2.000000</td>\n",
       "      <td>12.000000</td>\n",
       "      <td>307.000000</td>\n",
       "      <td>179.000000</td>\n",
       "      <td>2.000000</td>\n",
       "      <td>3.000000</td>\n",
       "      <td>6.000000</td>\n",
       "      <td>5.000000</td>\n",
       "      <td>2.000000</td>\n",
       "      <td>2.000000</td>\n",
       "      <td>2.000000</td>\n",
       "      <td>2.000000</td>\n",
       "      <td>2.000000</td>\n",
       "      <td>1.000000</td>\n",
       "      <td>1.000000</td>\n",
       "      <td>0.000000</td>\n",
       "      <td>41401.000000</td>\n",
       "      <td>0.000000</td>\n",
       "      <td>5.000000</td>\n",
       "      <td>4.000000</td>\n",
       "    </tr>\n",
       "    <tr>\n",
       "      <th>max</th>\n",
       "      <td>2.000000</td>\n",
       "      <td>255.000000</td>\n",
       "      <td>307.000000</td>\n",
       "      <td>307.000000</td>\n",
       "      <td>3.000000</td>\n",
       "      <td>7.000000</td>\n",
       "      <td>7.000000</td>\n",
       "      <td>7.000000</td>\n",
       "      <td>4.000000</td>\n",
       "      <td>3.000000</td>\n",
       "      <td>3.000000</td>\n",
       "      <td>3.000000</td>\n",
       "      <td>3.000000</td>\n",
       "      <td>3.000000</td>\n",
       "      <td>20.000000</td>\n",
       "      <td>3000.000000</td>\n",
       "      <td>41415.000000</td>\n",
       "      <td>8.000000</td>\n",
       "      <td>30.000000</td>\n",
       "      <td>4.000000</td>\n",
       "    </tr>\n",
       "  </tbody>\n",
       "</table>\n",
       "</div>"
      ],
      "text/plain": [
       "               Type           Age        Breed1        Breed2        Gender  \\\n",
       "count  14993.000000  14993.000000  14993.000000  14993.000000  14993.000000   \n",
       "mean       1.457614     10.452078    265.272594     74.009738      1.776162   \n",
       "std        0.498217     18.155790     60.056818    123.011575      0.681592   \n",
       "min        1.000000      0.000000      0.000000      0.000000      1.000000   \n",
       "25%        1.000000      2.000000    265.000000      0.000000      1.000000   \n",
       "50%        1.000000      3.000000    266.000000      0.000000      2.000000   \n",
       "75%        2.000000     12.000000    307.000000    179.000000      2.000000   \n",
       "max        2.000000    255.000000    307.000000    307.000000      3.000000   \n",
       "\n",
       "             Color1        Color2        Color3  MaturitySize     FurLength  \\\n",
       "count  14993.000000  14993.000000  14993.000000  14993.000000  14993.000000   \n",
       "mean       2.234176      3.222837      1.882012      1.862002      1.467485   \n",
       "std        1.745225      2.742562      2.984086      0.547959      0.599070   \n",
       "min        1.000000      0.000000      0.000000      1.000000      1.000000   \n",
       "25%        1.000000      0.000000      0.000000      2.000000      1.000000   \n",
       "50%        2.000000      2.000000      0.000000      2.000000      1.000000   \n",
       "75%        3.000000      6.000000      5.000000      2.000000      2.000000   \n",
       "max        7.000000      7.000000      7.000000      4.000000      3.000000   \n",
       "\n",
       "         Vaccinated      Dewormed    Sterilized        Health      Quantity  \\\n",
       "count  14993.000000  14993.000000  14993.000000  14993.000000  14993.000000   \n",
       "mean       1.731208      1.558727      1.914227      1.036617      1.576069   \n",
       "std        0.667649      0.695817      0.566172      0.199535      1.472477   \n",
       "min        1.000000      1.000000      1.000000      1.000000      1.000000   \n",
       "25%        1.000000      1.000000      2.000000      1.000000      1.000000   \n",
       "50%        2.000000      1.000000      2.000000      1.000000      1.000000   \n",
       "75%        2.000000      2.000000      2.000000      1.000000      1.000000   \n",
       "max        3.000000      3.000000      3.000000      3.000000     20.000000   \n",
       "\n",
       "                Fee         State      VideoAmt      PhotoAmt  AdoptionSpeed  \n",
       "count  14993.000000  14993.000000  14993.000000  14993.000000   14993.000000  \n",
       "mean      21.259988  41346.028347      0.056760      3.889215       2.516441  \n",
       "std       78.414548     32.444153      0.346185      3.487810       1.177265  \n",
       "min        0.000000  41324.000000      0.000000      0.000000       0.000000  \n",
       "25%        0.000000  41326.000000      0.000000      2.000000       2.000000  \n",
       "50%        0.000000  41326.000000      0.000000      3.000000       2.000000  \n",
       "75%        0.000000  41401.000000      0.000000      5.000000       4.000000  \n",
       "max     3000.000000  41415.000000      8.000000     30.000000       4.000000  "
      ]
     },
     "execution_count": 4,
     "metadata": {},
     "output_type": "execute_result"
    }
   ],
   "source": [
    "data.describe()"
   ]
  },
  {
   "cell_type": "code",
   "execution_count": 5,
   "metadata": {},
   "outputs": [
    {
     "name": "stdout",
     "output_type": "stream",
     "text": [
      "Number of NaN values in Type : 0\n",
      "Number of NaN values in Name : 1257\n",
      "Number of NaN values in Age : 0\n",
      "Number of NaN values in Breed1 : 0\n",
      "Number of NaN values in Breed2 : 0\n",
      "Number of NaN values in Gender : 0\n",
      "Number of NaN values in Color1 : 0\n",
      "Number of NaN values in Color2 : 0\n",
      "Number of NaN values in Color3 : 0\n",
      "Number of NaN values in MaturitySize : 0\n",
      "Number of NaN values in FurLength : 0\n",
      "Number of NaN values in Vaccinated : 0\n",
      "Number of NaN values in Dewormed : 0\n",
      "Number of NaN values in Sterilized : 0\n",
      "Number of NaN values in Health : 0\n",
      "Number of NaN values in Quantity : 0\n",
      "Number of NaN values in Fee : 0\n",
      "Number of NaN values in State : 0\n",
      "Number of NaN values in RescuerID : 0\n",
      "Number of NaN values in VideoAmt : 0\n",
      "Number of NaN values in Description : 12\n",
      "Number of NaN values in PetID : 0\n",
      "Number of NaN values in PhotoAmt : 0\n",
      "Number of NaN values in AdoptionSpeed : 0\n"
     ]
    }
   ],
   "source": [
    "for col in data:\n",
    "    print(\"Number of NaN values in\", col, \":\", data[col].isnull().sum())"
   ]
  },
  {
   "cell_type": "code",
   "execution_count": 6,
   "metadata": {},
   "outputs": [
    {
     "name": "stderr",
     "output_type": "stream",
     "text": [
      ":FEATURES DONE:                    |█████████████████████| [100%]   00:08  -> (00:00 left)\n",
      ":PAIRWISE DONE:                    |█████████████████████| [100%]   00:01  -> (00:00 left)\n"
     ]
    },
    {
     "name": "stdout",
     "output_type": "stream",
     "text": [
      "Creating Associations graph... DONE!\n",
      "Report SWEETVIZ_REPORT.html was generated! NOTEBOOK/COLAB USERS: no browser will pop up, the report is saved in your notebook/colab files.\n"
     ]
    }
   ],
   "source": [
    "my_report = sv.analyze(data,pairwise_analysis=\"on\")\n",
    "my_report.show_html() # Default arguments will generate to \"SWEETVIZ_REPORT.html\""
   ]
  },
  {
   "cell_type": "code",
   "execution_count": 7,
   "metadata": {},
   "outputs": [
    {
     "name": "stderr",
     "output_type": "stream",
     "text": [
      "100%|██████████| 14993/14993 [00:00<00:00, 32051.58it/s]\n"
     ]
    },
    {
     "data": {
      "image/png": "[encoded data removed]",
      "text/plain": [
       "<Figure size 600x400 with 2 Axes>"
      ]
     },
     "metadata": {},
     "output_type": "display_data"
    }
   ],
   "source": [
    "X1 = data[\"Age\"]\n",
    "X2 = data[\"AdoptionSpeed\"]\n",
    "un_1 = set([i//12 for i in X1.unique()])\n",
    "un_1 = list(un_1)\n",
    "dict1 = {}\n",
    "for i in range(len(un_1)):\n",
    "    dict1[un_1[i]] = i\n",
    "    \n",
    "un_2 = sorted(X2.unique())\n",
    "dict2 = {}\n",
    "for i in range(len(un_2)):\n",
    "    dict2[un_2[i]] = i\n",
    "arr = np.zeros((len(un_1),len(un_2)))\n",
    "# print(dict2)\n",
    "dict_total = {}\n",
    "for i in tqdm(range(data.shape[0])):\n",
    "    arr[(dict1[X1[i]//12]),dict2[X2[i]]] += 1#     print(X1[i],X2[i])\n",
    "    if(dict1[X1[i]//12] not in dict_total):\n",
    "        dict_total[dict1[X1[i]//12]] = 1\n",
    "    else:\n",
    "        dict_total[dict1[X1[i]//12]] += 1\n",
    "for i in range(arr.shape[0]):\n",
    "    for j in range(arr.shape[1]):\n",
    "        arr[i][j] /= dict_total[i]\n",
    "        arr[i][j] *= 100\n",
    "sns.heatmap(arr,xticklabels= un_2, yticklabels=un_1)\n",
    "plt.xlabel(\"Adoption Speed \")\n",
    "plt.ylabel(\"Age \")\n",
    "plt.show()"
   ]
  },
  {
   "cell_type": "code",
   "execution_count": 33,
   "metadata": {},
   "outputs": [
    {
     "name": "stderr",
     "output_type": "stream",
     "text": [
      "100%|██████████| 14993/14993 [00:00<00:00, 52399.70it/s]\n"
     ]
    },
    {
     "data": {
      "image/png": "[encoded data removed]",
      "text/plain": [
       "<Figure size 600x400 with 2 Axes>"
      ]
     },
     "metadata": {},
     "output_type": "display_data"
    }
   ],
   "source": [
    "X2 = data[\"Vaccinated\"]\n",
    "X1 = data[\"AdoptionSpeed\"]\n",
    "un_1 = set([i for i in X1.unique()])\n",
    "un_1 = list(un_1)\n",
    "dict1 = {}\n",
    "for i in range(len(un_1)):\n",
    "    dict1[un_1[i]] = i\n",
    "    \n",
    "un_2 = sorted(X2.unique())\n",
    "dict2 = {}\n",
    "for i in range(len(un_2)):\n",
    "    dict2[un_2[i]] = i\n",
    "arr = np.zeros((len(un_1),len(un_2)))\n",
    "# print(dict2)\n",
    "dict_total = {}\n",
    "for i in tqdm(range(data.shape[0])):\n",
    "    arr[(dict1[X1[i]]),dict2[X2[i]]] += 1#     print(X1[i],X2[i])\n",
    "    if(dict1[X1[i]] not in dict_total):\n",
    "        dict_total[dict1[X1[i]]] = 1\n",
    "    else:\n",
    "        dict_total[dict1[X1[i]]] += 1\n",
    "# for i in range(arr.shape[0]):\n",
    "#     for j in range(arr.shape[1]):\n",
    "#         arr[i][j] /= dict_total[i]\n",
    "#         arr[i][j] *= 100\n",
    "sns.heatmap(arr,xticklabels= un_2, yticklabels=un_1)\n",
    "plt.ylabel(\"AdoptionSpeed \")\n",
    "plt.xlabel(\"Vaccinated \")\n",
    "plt.show()"
   ]
  },
  {
   "cell_type": "code",
   "execution_count": 31,
   "metadata": {},
   "outputs": [
    {
     "name": "stderr",
     "output_type": "stream",
     "text": [
      "100%|██████████| 14993/14993 [00:00<00:00, 56691.49it/s]\n"
     ]
    },
    {
     "data": {
      "image/png": "[encoded data removed]",
      "text/plain": [
       "<Figure size 600x400 with 2 Axes>"
      ]
     },
     "metadata": {},
     "output_type": "display_data"
    }
   ],
   "source": [
    "X2 = data[\"Dewormed\"]\n",
    "X1 = data[\"AdoptionSpeed\"]\n",
    "un_1 = set([i for i in X1.unique()])\n",
    "un_1 = list(un_1)\n",
    "dict1 = {}\n",
    "for i in range(len(un_1)):\n",
    "    dict1[un_1[i]] = i\n",
    "    \n",
    "un_2 = sorted(X2.unique())\n",
    "dict2 = {}\n",
    "for i in range(len(un_2)):\n",
    "    dict2[un_2[i]] = i\n",
    "arr = np.zeros((len(un_1),len(un_2)))\n",
    "# print(dict2)\n",
    "dict_total = {}\n",
    "for i in tqdm(range(data.shape[0])):\n",
    "    if(data[\"Type\"][i] == 2): #dogs = 1 and cats = 2\n",
    "        continue\n",
    "    arr[(dict1[X1[i]]),dict2[X2[i]]] += 1#     print(X1[i],X2[i])\n",
    "    if(dict1[X1[i]] not in dict_total):\n",
    "        dict_total[dict1[X1[i]]] = 1\n",
    "    else:\n",
    "        dict_total[dict1[X1[i]]] += 1\n",
    "for i in range(arr.shape[0]):\n",
    "    for j in range(arr.shape[1]):\n",
    "        arr[i][j] /= dict_total[i]\n",
    "        arr[i][j] *= 100\n",
    "sns.heatmap(arr,xticklabels= un_2, yticklabels=un_1)\n",
    "plt.ylabel(\"AdoptionSpeed \")\n",
    "plt.xlabel(\"Dewormed \")\n",
    "plt.show()"
   ]
  },
  {
   "cell_type": "code",
   "execution_count": 26,
   "metadata": {},
   "outputs": [
    {
     "name": "stderr",
     "output_type": "stream",
     "text": [
      "100%|██████████| 14993/14993 [00:00<00:00, 62399.05it/s]\n"
     ]
    },
    {
     "data": {
      "image/png": "[encoded data removed]",
      "text/plain": [
       "<Figure size 600x400 with 2 Axes>"
      ]
     },
     "metadata": {},
     "output_type": "display_data"
    }
   ],
   "source": [
    "X1 = data[\"Sterilized\"]\n",
    "X2 = data[\"AdoptionSpeed\"]\n",
    "un_1 = set([i for i in X1.unique()])\n",
    "un_1 = list(un_1)\n",
    "dict1 = {}\n",
    "for i in range(len(un_1)):\n",
    "    dict1[un_1[i]] = i\n",
    "    \n",
    "un_2 = sorted(X2.unique())\n",
    "dict2 = {}\n",
    "for i in range(len(un_2)):\n",
    "    dict2[un_2[i]] = i\n",
    "arr = np.zeros((len(un_1),len(un_2)))\n",
    "# print(dict2)\n",
    "dict_total = {}\n",
    "for i in tqdm(range(data.shape[0])):\n",
    "    if(data[\"Type\"][i] == 2): #dogs = 1 and cats = 2\n",
    "        continue\n",
    "    arr[(dict1[X1[i]]),dict2[X2[i]]] += 1#     print(X1[i],X2[i])\n",
    "    if(dict1[X1[i]] not in dict_total):\n",
    "        dict_total[dict1[X1[i]]] = 1\n",
    "    else:\n",
    "        dict_total[dict1[X1[i]]] += 1\n",
    "for i in range(arr.shape[0]):\n",
    "    for j in range(arr.shape[1]):\n",
    "        arr[i][j] /= dict_total[i]\n",
    "        arr[i][j] *= 100\n",
    "sns.heatmap(arr,xticklabels= un_2, yticklabels=un_1)\n",
    "plt.xlabel(\"AdoptionSpeed \")\n",
    "plt.ylabel(\"Sterilized \")\n",
    "plt.show()"
   ]
  },
  {
   "cell_type": "code",
   "execution_count": 11,
   "metadata": {},
   "outputs": [
    {
     "name": "stderr",
     "output_type": "stream",
     "text": [
      "100%|██████████| 14993/14993 [00:00<00:00, 72950.89it/s]\n"
     ]
    },
    {
     "data": {
      "image/png": "[encoded data removed]",
      "text/plain": [
       "<Figure size 600x400 with 2 Axes>"
      ]
     },
     "metadata": {},
     "output_type": "display_data"
    }
   ],
   "source": [
    "X1 = data[\"Health\"]\n",
    "X2 = data[\"AdoptionSpeed\"]\n",
    "un_1 = set([i for i in X1.unique()])\n",
    "un_1 = list(un_1)\n",
    "dict1 = {}\n",
    "for i in range(len(un_1)):\n",
    "    dict1[un_1[i]] = i\n",
    "    \n",
    "un_2 = sorted(X2.unique())\n",
    "dict2 = {}\n",
    "for i in range(len(un_2)):\n",
    "    dict2[un_2[i]] = i\n",
    "arr = np.zeros((len(un_1),len(un_2)))\n",
    "dict_total = {}\n",
    "for i in tqdm(range(data.shape[0])):\n",
    "    arr[(dict1[X1[i]]),dict2[X2[i]]] += 1#     print(X1[i],X2[i])\n",
    "    if(dict1[X1[i]] not in dict_total):\n",
    "        dict_total[dict1[X1[i]]] = 1\n",
    "    else:\n",
    "        dict_total[dict1[X1[i]]] += 1\n",
    "for i in range(arr.shape[0]):\n",
    "    for j in range(arr.shape[1]):\n",
    "        arr[i][j] /= dict_total[i]\n",
    "        arr[i][j] *= 100\n",
    "sns.heatmap(arr,xticklabels= un_2, yticklabels=un_1)\n",
    "plt.xlabel(\"AdoptionSpeed \")\n",
    "plt.ylabel(\"Health \")\n",
    "plt.show()"
   ]
  },
  {
   "cell_type": "code",
   "execution_count": 17,
   "metadata": {},
   "outputs": [
    {
     "name": "stderr",
     "output_type": "stream",
     "text": [
      "100%|██████████| 14993/14993 [00:00<00:00, 45075.44it/s]\n"
     ]
    },
    {
     "name": "stdout",
     "output_type": "stream",
     "text": [
      "12813\n",
      "{0: 5536, 1: 7277}\n"
     ]
    },
    {
     "data": {
      "image/png": "[encoded data removed]",
      "text/plain": [
       "<Figure size 600x400 with 2 Axes>"
      ]
     },
     "metadata": {},
     "output_type": "display_data"
    }
   ],
   "source": [
    "X1 = data[\"Gender\"]\n",
    "X2 = data[\"AdoptionSpeed\"]\n",
    "un_1 = set([i for i in X1.unique() if i != 3 ])\n",
    "un_1 = list(un_1)\n",
    "dict1 = {}\n",
    "for i in range(len(un_1)):\n",
    "    dict1[un_1[i]] = i\n",
    "    \n",
    "un_2 = sorted(X2.unique())\n",
    "dict2 = {}\n",
    "for i in range(len(un_2)):\n",
    "    dict2[un_2[i]] = i\n",
    "arr = np.zeros((len(un_1),len(un_2)))\n",
    "# print(dict2)\n",
    "d = 0\n",
    "dict_total = {}\n",
    "for i in tqdm(range(data.shape[0])):\n",
    "    if(X1[i] == 3 ): #dogs = 1 and cats = 2\n",
    "        continue\n",
    "    \n",
    "    arr[(dict1[X1[i]]),dict2[X2[i]]] += 1#     print(X1[i],X2[i])\n",
    "    if(dict1[X1[i]] not in dict_total):\n",
    "        dict_total[dict1[X1[i]]] = 1\n",
    "    else:\n",
    "        dict_total[dict1[X1[i]]] += 1\n",
    "    d += 1\n",
    "print(d)\n",
    "print(dict_total)\n",
    "for i in range(arr.shape[0]):\n",
    "    for j in range(arr.shape[1]):\n",
    "        arr[i][j] /= dict_total[i]\n",
    "        arr[i][j] *= 100\n",
    "sns.heatmap(arr,xticklabels= un_2, yticklabels=un_1)\n",
    "plt.xlabel(\"AdoptionSpeed \")\n",
    "plt.ylabel(\"Gender \")\n",
    "plt.show()"
   ]
  },
  {
   "cell_type": "code",
   "execution_count": 25,
   "metadata": {},
   "outputs": [
    {
     "name": "stderr",
     "output_type": "stream",
     "text": [
      "100%|██████████| 14993/14993 [00:00<00:00, 50298.50it/s]\n"
     ]
    },
    {
     "data": {
      "image/png": "[encoded data removed]",
      "text/plain": [
       "<Figure size 600x400 with 2 Axes>"
      ]
     },
     "metadata": {},
     "output_type": "display_data"
    }
   ],
   "source": [
    "X1 = data[\"FurLength\"]\n",
    "X2 = data[\"AdoptionSpeed\"]\n",
    "un_1 = set([i for i in X1.unique()])\n",
    "un_1 = list(un_1\n",
    "           )\n",
    "dict1 = {}\n",
    "for i in range(len(un_1)):\n",
    "    dict1[un_1[i]] = i\n",
    "    \n",
    "un_2 = sorted(X2.unique())\n",
    "dict2 = {}\n",
    "for i in range(len(un_2)):\n",
    "    dict2[un_2[i]] = i\n",
    "arr = np.zeros((len(un_1),len(un_2)))\n",
    "# print(dict2)\n",
    "dict_total = {}\n",
    "for i in tqdm(range(data.shape[0])):\n",
    "    if(data[\"Type\"][i] == 2): #dogs = 1 and cats = 2\n",
    "        continue\n",
    "    arr[(dict1[X1[i]]),dict2[X2[i]]] += 1#     print(X1[i],X2[i])\n",
    "    if(dict1[X1[i]] not in dict_total):\n",
    "        dict_total[dict1[X1[i]]] = 1\n",
    "    else:\n",
    "        dict_total[dict1[X1[i]]] += 1\n",
    "# for i in range(arr.shape[0]):\n",
    "#     for j in range(arr.shape[1]):\n",
    "#         arr[i][j] /= dict_total[i]\n",
    "#         arr[i][j] *= 100\n",
    "sns.heatmap(arr,xticklabels= un_2, yticklabels=un_1)\n",
    "plt.xlabel(\"AdoptionSpeed \")\n",
    "plt.ylabel(\"FurLength \")\n",
    "plt.show()"
   ]
  },
  {
   "cell_type": "code",
   "execution_count": 24,
   "metadata": {},
   "outputs": [
    {
     "name": "stderr",
     "output_type": "stream",
     "text": [
      "100%|██████████| 14993/14993 [00:00<00:00, 44442.47it/s]\n"
     ]
    },
    {
     "data": {
      "image/png": "[encoded data removed]",
      "text/plain": [
       "<Figure size 600x400 with 2 Axes>"
      ]
     },
     "metadata": {},
     "output_type": "display_data"
    }
   ],
   "source": [
    "X1 = data[\"PhotoAmt\"]\n",
    "X2 = data[\"AdoptionSpeed\"]\n",
    "un_1 = set([i for i in X1.unique()])\n",
    "un_1 = list(un_1)\n",
    "dict1 = {}\n",
    "for i in range(len(un_1)):\n",
    "    dict1[un_1[i]] = i\n",
    "    \n",
    "un_2 = sorted(X2.unique())\n",
    "dict2 = {}\n",
    "for i in range(len(un_2)):\n",
    "    dict2[un_2[i]] = i\n",
    "arr = np.zeros((len(un_1),len(un_2)))\n",
    "# print(dict2)\n",
    "dict_total = {}\n",
    "for i in tqdm(range(data.shape[0])):\n",
    "    if(data[\"Type\"][i] == 2): #dogs = 1 and cats = 2\n",
    "        continue\n",
    "    arr[(dict1[X1[i]]),dict2[X2[i]]] += 1#     print(X1[i],X2[i])\n",
    "    if(dict1[X1[i]] not in dict_total):\n",
    "        dict_total[dict1[X1[i]]] = 1\n",
    "    else:\n",
    "        dict_total[dict1[X1[i]]] += 1\n",
    "for i in range(arr.shape[0]):\n",
    "    for j in range(arr.shape[1]):\n",
    "        arr[i][j] /= dict_total[i]\n",
    "        arr[i][j] *= 100\n",
    "sns.heatmap(arr,xticklabels= un_2, yticklabels=un_1)\n",
    "plt.xlabel(\"AdoptionSpeed \")\n",
    "plt.ylabel(\"PhotoAmt \")\n",
    "plt.show()"
   ]
  },
  {
   "cell_type": "code",
   "execution_count": 23,
   "metadata": {},
   "outputs": [
    {
     "name": "stderr",
     "output_type": "stream",
     "text": [
      "100%|██████████| 14993/14993 [00:00<00:00, 30544.57it/s]\n"
     ]
    },
    {
     "data": {
      "image/png": "[encoded data removed]",
      "text/plain": [
       "<Figure size 600x400 with 2 Axes>"
      ]
     },
     "metadata": {},
     "output_type": "display_data"
    }
   ],
   "source": [
    "X1 = data[\"VideoAmt\"]\n",
    "X2 = data[\"AdoptionSpeed\"]\n",
    "un_1 = set([i for i in X1.unique()])\n",
    "un_1 = list(un_1)\n",
    "dict1 = {}\n",
    "for i in range(len(un_1)):\n",
    "    dict1[un_1[i]] = i\n",
    "    \n",
    "un_2 = sorted(X2.unique())\n",
    "dict2 = {}\n",
    "for i in range(len(un_2)):\n",
    "    dict2[un_2[i]] = i\n",
    "arr = np.zeros((len(un_1),len(un_2)))\n",
    "# print(dict2)\n",
    "dict_total = {}\n",
    "for i in tqdm(range(data.shape[0])):\n",
    "    if(data[\"Type\"][i] == 2): #dogs = 1 and cats = 2\n",
    "        continue\n",
    "    arr[(dict1[X1[i]]),dict2[X2[i]]] += 1#     print(X1[i],X2[i])\n",
    "    if(dict1[X1[i]] not in dict_total):\n",
    "        dict_total[dict1[X1[i]]] = 1\n",
    "    else:\n",
    "        dict_total[dict1[X1[i]]] += 1\n",
    "for i in range(arr.shape[0]):\n",
    "    for j in range(arr.shape[1]):\n",
    "        arr[i][j] /= dict_total[i]\n",
    "        arr[i][j] *= 100\n",
    "sns.heatmap(arr,xticklabels= un_2, yticklabels=un_1)\n",
    "plt.xlabel(\"AdoptionSpeed \")\n",
    "plt.ylabel(\"VideoAmt \")\n",
    "plt.show()"
   ]
  },
  {
   "cell_type": "code",
   "execution_count": 21,
   "metadata": {},
   "outputs": [
    {
     "name": "stderr",
     "output_type": "stream",
     "text": [
      "100%|██████████| 14993/14993 [00:00<00:00, 48511.71it/s]\n"
     ]
    },
    {
     "data": {
      "image/png": "[encoded data removed]",
      "text/plain": [
       "<Figure size 600x400 with 2 Axes>"
      ]
     },
     "metadata": {},
     "output_type": "display_data"
    }
   ],
   "source": [
    "X1 = data[\"Breed2\"]\n",
    "X2 = data[\"AdoptionSpeed\"]\n",
    "un_1 = set([int(i>0) for i in X1.unique()])\n",
    "un_1 = list(un_1)\n",
    "dict1 = {}\n",
    "for i in range(len(un_1)):\n",
    "    dict1[un_1[i]] = i\n",
    "    \n",
    "un_2 = sorted(X2.unique())\n",
    "dict2 = {}\n",
    "for i in range(len(un_2)):\n",
    "    dict2[un_2[i]] = i\n",
    "arr = np.zeros((len(un_1),len(un_2)))\n",
    "# print(dict2)\n",
    "dict_total = {}\n",
    "for i in tqdm(range(data.shape[0])):\n",
    "    if(data[\"Type\"][i] == 1): #dogs = 1 and cats = 2\n",
    "        continue\n",
    "    arr[(dict1[X1[i] > 0]),dict2[X2[i]]] += 1#     print(X1[i],X2[i])\n",
    "    if(dict1[X1[i] > 0] not in dict_total):\n",
    "        dict_total[dict1[X1[i] > 0]] = 1\n",
    "    else:\n",
    "        dict_total[dict1[X1[i] > 0]] += 1\n",
    "for i in range(arr.shape[0]):\n",
    "    for j in range(arr.shape[1]):\n",
    "        arr[i][j] /= dict_total[i]\n",
    "        arr[i][j] *= 100\n",
    "sns.heatmap(arr,xticklabels= un_2, yticklabels=un_1)\n",
    "plt.xlabel(\"AdoptionSpeed \")\n",
    "plt.ylabel(\"Breed2 \")\n",
    "plt.show()"
   ]
  },
  {
   "cell_type": "code",
   "execution_count": null,
   "metadata": {},
   "outputs": [],
   "source": []
  },
  {
   "cell_type": "code",
   "execution_count": null,
   "metadata": {},
   "outputs": [],
   "source": []
  },
  {
   "cell_type": "code",
   "execution_count": null,
   "metadata": {},
   "outputs": [],
   "source": []
  }
 ],
 "metadata": {
  "kernelspec": {
   "display_name": "Python 3",
   "language": "python",
   "name": "python3"
  },
  "language_info": {
   "codemirror_mode": {
    "name": "ipython",
    "version": 3
   },
   "file_extension": ".py",
   "mimetype": "text/x-python",
   "name": "python",
   "nbconvert_exporter": "python",
   "pygments_lexer": "ipython3",
   "version": "3.6.9"
  }
 },
 "nbformat": 4,
 "nbformat_minor": 4
}
